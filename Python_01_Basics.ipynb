{
  "nbformat": 4,
  "nbformat_minor": 0,
  "metadata": {
    "colab": {
      "provenance": [],
      "include_colab_link": true
    },
    "kernelspec": {
      "name": "python3",
      "display_name": "Python 3"
    },
    "language_info": {
      "name": "python"
    }
  },
  "cells": [
    {
      "cell_type": "markdown",
      "metadata": {
        "id": "view-in-github",
        "colab_type": "text"
      },
      "source": [
        "<a href=\"https://colab.research.google.com/github/ethanalrawipython/firstrepository/blob/main/Python_01_Basics.ipynb\" target=\"_parent\"><img src=\"https://colab.research.google.com/assets/colab-badge.svg\" alt=\"Open In Colab\"/></a>"
      ]
    },
    {
      "cell_type": "code",
      "source": [
        "! python --version"
      ],
      "metadata": {
        "colab": {
          "base_uri": "https://localhost:8080/"
        },
        "id": "HeKBHcxk-3Q7",
        "outputId": "844bbae9-8324-4630-d02e-89fe3fc837d2"
      },
      "execution_count": null,
      "outputs": [
        {
          "output_type": "stream",
          "name": "stdout",
          "text": [
            "Python 3.10.12\n"
          ]
        }
      ]
    },
    {
      "cell_type": "markdown",
      "source": [
        "#Python Intro\n",
        "\n",
        "Python is a dynamic, interpreted language.\n",
        "\n",
        "There are no type declarations of variables, parameters, functions, or methods in source code. This makes the code short and flexible.\n",
        "\n",
        "Python tracks the types of all values at runtime line by line and flags code that does not make sense as it runs."
      ],
      "metadata": {
        "id": "92QCa7mHKPkm"
      }
    },
    {
      "cell_type": "markdown",
      "source": [
        "# Section 1.1: Getting Started \"Hello World !\"\n",
        "\n",
        "As you write your programs, your editor highlights different parts of\n",
        "your program in different ways.\n",
        "\n",
        "For example:\n",
        "\n",
        "It recognizes that ***print*** is the name of a function and displays that word in ***yellow***.\n",
        "\n",
        "It recognizes that ***“Hello Python world!”*** is not Python code and displays that phrase in ***brown***.\n",
        "\n",
        "This feature is called syntax highlighting and is quite useful as you start to write your own programs."
      ],
      "metadata": {
        "id": "UoRHXQmsWvgO"
      }
    },
    {
      "cell_type": "code",
      "source": [
        "print(\"Hello Python world!\")"
      ],
      "metadata": {
        "colab": {
          "base_uri": "https://localhost:8080/"
        },
        "id": "K0v0bh3KZSFr",
        "outputId": "b7ec511f-debb-4ce9-f240-636dd95ffe6c"
      },
      "execution_count": null,
      "outputs": [
        {
          "output_type": "stream",
          "name": "stdout",
          "text": [
            "Hello Python world!\n"
          ]
        }
      ]
    },
    {
      "cell_type": "markdown",
      "source": [
        "Asking the user to input a text:"
      ],
      "metadata": {
        "id": "QGOp_CfHDn_o"
      }
    },
    {
      "cell_type": "code",
      "source": [
        "input(\"Please write something :\")"
      ],
      "metadata": {
        "colab": {
          "base_uri": "https://localhost:8080/",
          "height": 53
        },
        "id": "dBw3CH0ADtPt",
        "outputId": "17658d97-8723-4e57-b09c-c204e491c82c"
      },
      "execution_count": null,
      "outputs": [
        {
          "name": "stdout",
          "output_type": "stream",
          "text": [
            "Please write something :hello\n"
          ]
        },
        {
          "output_type": "execute_result",
          "data": {
            "text/plain": [
              "'hello'"
            ],
            "application/vnd.google.colaboratory.intrinsic+json": {
              "type": "string"
            }
          },
          "metadata": {},
          "execution_count": 9
        }
      ]
    },
    {
      "cell_type": "code",
      "source": [
        "input()"
      ],
      "metadata": {
        "colab": {
          "base_uri": "https://localhost:8080/",
          "height": 53
        },
        "id": "yspLSaz58HUx",
        "outputId": "701fd1d2-4c8e-4256-db81-d6feb3fda67e"
      },
      "execution_count": null,
      "outputs": [
        {
          "name": "stdout",
          "output_type": "stream",
          "text": [
            "Hello essec\n"
          ]
        },
        {
          "output_type": "execute_result",
          "data": {
            "text/plain": [
              "'Hello essec'"
            ],
            "application/vnd.google.colaboratory.intrinsic+json": {
              "type": "string"
            }
          },
          "metadata": {},
          "execution_count": 1
        }
      ]
    },
    {
      "cell_type": "markdown",
      "source": [
        "### Comments\n",
        "\n",
        "To make a comment start with #"
      ],
      "metadata": {
        "id": "JfmpDq-fq62u"
      }
    },
    {
      "cell_type": "code",
      "source": [
        "# This is a comment\n",
        "# input()"
      ],
      "metadata": {
        "id": "mcBzcmeDrBaP"
      },
      "execution_count": null,
      "outputs": []
    },
    {
      "cell_type": "markdown",
      "source": [
        "# Section 1.2: Creating variables and assigning values\n",
        "\n",
        "To create a variable in Python, all you need to do is specify the ***variable name***, and then assign a ***value*** to it.\n",
        "\n",
        "*variable_name = value*\n",
        "\n"
      ],
      "metadata": {
        "id": "fCVy6Dc0pQze"
      }
    },
    {
      "cell_type": "code",
      "execution_count": null,
      "metadata": {
        "id": "mmaLlqAFoW0_",
        "colab": {
          "base_uri": "https://localhost:8080/"
        },
        "outputId": "b91bf307-4bea-4b08-a271-a3c1f8ea71ed"
      },
      "outputs": [
        {
          "output_type": "stream",
          "name": "stdout",
          "text": [
            "Hello Python world!\n"
          ]
        }
      ],
      "source": [
        "message = \"Hello Python world!\"\n",
        "print(message)"
      ]
    },
    {
      "cell_type": "markdown",
      "source": [
        "Adding a variable makes a little more work for the Python interpreter.\n",
        "\n",
        "When it processes the first line, it associates the text *“Hello Python world!”* with the variable *message*.\n",
        "\n",
        "When it reaches the second line, it prints the value associated with *message* to the screen."
      ],
      "metadata": {
        "id": "TtAkB6NTKEK6"
      }
    },
    {
      "cell_type": "markdown",
      "source": [
        "## Section 1.2.1: Naming and Using Variables\n",
        "\n",
        "When you’re using variables in Python, you need to adhere to a few rules\n",
        "and guidelines. Breaking some of these rules will cause errors; other guidelines just help you write code that’s easier to read and understand. Be sure to keep the following variable rules in mind:\n",
        "\n",
        "•\t Variable names can contain only letters, numbers, and underscores.\n",
        "They can start with a letter or an underscore, but not with a number.\n",
        "For instance, you can call a variable *message_1* but not *1_message*.\n",
        "\n",
        "•\t Spaces are not allowed in variable names, but underscores can be used\n",
        "to separate words in variable names. For example, *hello_message* works,\n",
        "but *hello message* will cause errors.\n",
        "\n",
        "•\t Variable names should be short but descriptive. For example, *name* is\n",
        "better than *n*, *student_name* is better than *s_n*, and *name_length* is better than *length_of_persons_name*.\n",
        "\n",
        "•\t Variable names are case sensitive.\n",
        "\n",
        "•\t You can not use python's keywords as a valid variable name. You can see the list of keyword by :"
      ],
      "metadata": {
        "id": "6uzmT_HEKMrR"
      }
    },
    {
      "cell_type": "code",
      "source": [
        "import keyword\n",
        "print(keyword.kwlist)"
      ],
      "metadata": {
        "colab": {
          "base_uri": "https://localhost:8080/"
        },
        "id": "uj01x8KgPZBm",
        "outputId": "6a079356-f662-4307-d858-98d6253a2562"
      },
      "execution_count": null,
      "outputs": [
        {
          "output_type": "stream",
          "name": "stdout",
          "text": [
            "['False', 'None', 'True', 'and', 'as', 'assert', 'async', 'await', 'break', 'class', 'continue', 'def', 'del', 'elif', 'else', 'except', 'finally', 'for', 'from', 'global', 'if', 'import', 'in', 'is', 'lambda', 'nonlocal', 'not', 'or', 'pass', 'raise', 'return', 'try', 'while', 'with', 'yield']\n"
          ]
        }
      ]
    },
    {
      "cell_type": "markdown",
      "source": [
        "## Section 1.2.2: Data Types\n",
        "\n",
        "Even though there's no need to specify a data type when declaring a variable in Python, while allocating the necessary area in memory for the variable, the Python interpreter automatically picks the most suitable built-in type for it"
      ],
      "metadata": {
        "id": "ixUBMjaLQXkA"
      }
    },
    {
      "cell_type": "markdown",
      "source": [
        "### Integers\n",
        "\n",
        "**Type:** int\n",
        "\n",
        "**Description:** Whole numbers\n",
        "\n",
        "**Examples:** -2, 3, 0, 500"
      ],
      "metadata": {
        "id": "3o_biX6xV6k7"
      }
    },
    {
      "cell_type": "code",
      "source": [
        "number = 1"
      ],
      "metadata": {
        "id": "WcoCZjC2RSXZ"
      },
      "execution_count": null,
      "outputs": []
    },
    {
      "cell_type": "code",
      "source": [
        "type(number)"
      ],
      "metadata": {
        "colab": {
          "base_uri": "https://localhost:8080/"
        },
        "id": "A26flHsEXT0k",
        "outputId": "c69a1436-87f0-44fb-eabe-875bb5ca91d4"
      },
      "execution_count": null,
      "outputs": [
        {
          "output_type": "execute_result",
          "data": {
            "text/plain": [
              "int"
            ]
          },
          "metadata": {},
          "execution_count": 17
        }
      ]
    },
    {
      "cell_type": "markdown",
      "source": [
        "### Floating-point  \n",
        "\n",
        "**Type:** float\t  \n",
        "\n",
        "**Description:** Numbers with decimal point\n",
        "\n",
        "**Examples:** -1.25, 0.0, 1.0, 1.25\n"
      ],
      "metadata": {
        "id": "tZ0DinmCXsRV"
      }
    },
    {
      "cell_type": "code",
      "source": [
        "decimal = -1.25"
      ],
      "metadata": {
        "id": "6aySVMhWX6oG"
      },
      "execution_count": null,
      "outputs": []
    },
    {
      "cell_type": "code",
      "source": [
        "type(decimal)"
      ],
      "metadata": {
        "colab": {
          "base_uri": "https://localhost:8080/"
        },
        "id": "GIcny7iWX_OZ",
        "outputId": "9194e70f-1a9f-4663-846c-51c4a279738d"
      },
      "execution_count": null,
      "outputs": [
        {
          "output_type": "execute_result",
          "data": {
            "text/plain": [
              "float"
            ]
          },
          "metadata": {},
          "execution_count": 19
        }
      ]
    },
    {
      "cell_type": "markdown",
      "source": [
        "### Booleans        \n",
        "\n",
        "**Type:** bool    \n",
        "\n",
        "**Description:** Logical value indicating **True** or **False**"
      ],
      "metadata": {
        "id": "XyM6flGdYCPn"
      }
    },
    {
      "cell_type": "code",
      "source": [
        "boolean = True"
      ],
      "metadata": {
        "id": "lSkyqB6FYM4s"
      },
      "execution_count": null,
      "outputs": []
    },
    {
      "cell_type": "code",
      "source": [
        "type(boolean)"
      ],
      "metadata": {
        "colab": {
          "base_uri": "https://localhost:8080/"
        },
        "id": "gmSVOkL_YOjX",
        "outputId": "ebd3564c-af08-4d5f-d470-19f96f8e83b2"
      },
      "execution_count": null,
      "outputs": [
        {
          "output_type": "execute_result",
          "data": {
            "text/plain": [
              "bool"
            ]
          },
          "metadata": {},
          "execution_count": 24
        }
      ]
    },
    {
      "cell_type": "markdown",
      "source": [
        "### Strings\n",
        "\n",
        "**Type:** str\n",
        "\n",
        "**Description:** Ordered sequence of characters\n",
        "\n",
        "**Exapmles:** 'a', 'Hello!', '11 cats'"
      ],
      "metadata": {
        "id": "tpaKDk6mXDuI"
      }
    },
    {
      "cell_type": "code",
      "source": [
        "greeting = 'Hello !'"
      ],
      "metadata": {
        "id": "fV_Z9uEHXmS2"
      },
      "execution_count": null,
      "outputs": []
    },
    {
      "cell_type": "code",
      "source": [
        "type(greeting)"
      ],
      "metadata": {
        "colab": {
          "base_uri": "https://localhost:8080/"
        },
        "id": "mwvW6pCEXqPm",
        "outputId": "868c0c0e-e9a1-4365-e0da-82e3e7bd840b"
      },
      "execution_count": null,
      "outputs": [
        {
          "output_type": "execute_result",
          "data": {
            "text/plain": [
              "str"
            ]
          },
          "metadata": {},
          "execution_count": 21
        }
      ]
    },
    {
      "cell_type": "markdown",
      "source": [
        "### Dictionaries    \n",
        "\n",
        "**Type:** dict\n",
        "\n",
        "**Description:** Dictionaries are used to store data in key:value pairs.\n",
        "\n",
        "A dictionary is a collection which is ordered, changeable and do not allow duplicates.\n",
        "\n",
        "**Example:** {\"my_key\": \"my_value\", \"title\": \"Python for business\"}"
      ],
      "metadata": {
        "id": "BbwDJsvNZIca"
      }
    },
    {
      "cell_type": "code",
      "source": [
        "person = {\"id\":1, \"name\":\"Alice\", \"job\": \"Data analyst\"}"
      ],
      "metadata": {
        "id": "QAxX_TZUZRHT"
      },
      "execution_count": null,
      "outputs": []
    },
    {
      "cell_type": "code",
      "source": [
        "type(person)"
      ],
      "metadata": {
        "colab": {
          "base_uri": "https://localhost:8080/"
        },
        "id": "X3W1H6TuZcVW",
        "outputId": "c616297d-397d-4111-d998-770e8d6c4063"
      },
      "execution_count": null,
      "outputs": [
        {
          "output_type": "execute_result",
          "data": {
            "text/plain": [
              "dict"
            ]
          },
          "metadata": {},
          "execution_count": 30
        }
      ]
    },
    {
      "cell_type": "markdown",
      "source": [
        "#### Dictionary Length\n",
        "\n",
        "To determine how many items a dictionary has, use the len() function:"
      ],
      "metadata": {
        "id": "Yt28yODk-XF0"
      }
    },
    {
      "cell_type": "code",
      "source": [
        "len(person)"
      ],
      "metadata": {
        "colab": {
          "base_uri": "https://localhost:8080/"
        },
        "id": "1hUscvGP_g_W",
        "outputId": "b7dbc07f-fcfc-4f80-e885-e9cd23ef638a"
      },
      "execution_count": null,
      "outputs": [
        {
          "output_type": "execute_result",
          "data": {
            "text/plain": [
              "3"
            ]
          },
          "metadata": {},
          "execution_count": 2
        }
      ]
    },
    {
      "cell_type": "markdown",
      "source": [
        "#### Accessing Items\n",
        "\n",
        "You can access the items of a dictionary by referring to its key name, inside square brackets:"
      ],
      "metadata": {
        "id": "FIEQT4cEBaot"
      }
    },
    {
      "cell_type": "code",
      "source": [
        "person[\"name\"]"
      ],
      "metadata": {
        "colab": {
          "base_uri": "https://localhost:8080/",
          "height": 36
        },
        "id": "I_tK2CZ8Bf4A",
        "outputId": "98e21acc-445b-4e8e-99a3-51fe45b2dcc8"
      },
      "execution_count": null,
      "outputs": [
        {
          "output_type": "execute_result",
          "data": {
            "text/plain": [
              "'Alice'"
            ],
            "application/vnd.google.colaboratory.intrinsic+json": {
              "type": "string"
            }
          },
          "metadata": {},
          "execution_count": 3
        }
      ]
    },
    {
      "cell_type": "markdown",
      "source": [
        "There is also a method called get() that will give you the same result:"
      ],
      "metadata": {
        "id": "ZIKBbyNfBxij"
      }
    },
    {
      "cell_type": "code",
      "source": [
        "person.get(\"name\")"
      ],
      "metadata": {
        "colab": {
          "base_uri": "https://localhost:8080/",
          "height": 36
        },
        "id": "ikHTN-MzByOp",
        "outputId": "fcc58336-a492-42a5-d917-ad3e6154b384"
      },
      "execution_count": null,
      "outputs": [
        {
          "output_type": "execute_result",
          "data": {
            "text/plain": [
              "'Alice'"
            ],
            "application/vnd.google.colaboratory.intrinsic+json": {
              "type": "string"
            }
          },
          "metadata": {},
          "execution_count": 4
        }
      ]
    },
    {
      "cell_type": "markdown",
      "source": [
        "Adding an item"
      ],
      "metadata": {
        "id": "UkTccQAOAzos"
      }
    },
    {
      "cell_type": "code",
      "source": [
        "person[\"age\"] = 20"
      ],
      "metadata": {
        "id": "c-KgKM8EBHtq"
      },
      "execution_count": null,
      "outputs": []
    },
    {
      "cell_type": "code",
      "source": [
        "person"
      ],
      "metadata": {
        "colab": {
          "base_uri": "https://localhost:8080/"
        },
        "id": "XkIJQ_MWBWhW",
        "outputId": "cbeb8b40-1f74-41e4-bd8f-4e29ea7e88c1"
      },
      "execution_count": null,
      "outputs": [
        {
          "output_type": "execute_result",
          "data": {
            "text/plain": [
              "{'id': 1, 'name': 'Alice', 'job': 'Data analyst', 'age': 20}"
            ]
          },
          "metadata": {},
          "execution_count": 6
        }
      ]
    },
    {
      "cell_type": "markdown",
      "source": [
        "Updating an item"
      ],
      "metadata": {
        "id": "srZhX6wGBfMo"
      }
    },
    {
      "cell_type": "code",
      "source": [
        "person.update({\"age\": 21})"
      ],
      "metadata": {
        "id": "bdOj_pYKBcUI"
      },
      "execution_count": null,
      "outputs": []
    },
    {
      "cell_type": "code",
      "source": [
        "person"
      ],
      "metadata": {
        "colab": {
          "base_uri": "https://localhost:8080/"
        },
        "id": "Pa9UuHp8BeIL",
        "outputId": "6eb55a20-b4bd-4d10-933b-a6106b92b711"
      },
      "execution_count": null,
      "outputs": [
        {
          "output_type": "execute_result",
          "data": {
            "text/plain": [
              "{'id': 1, 'name': 'Alice', 'job': 'Data analyst', 'age': 21}"
            ]
          },
          "metadata": {},
          "execution_count": 8
        }
      ]
    },
    {
      "cell_type": "markdown",
      "source": [
        "Deleting an item"
      ],
      "metadata": {
        "id": "W8bIftNABsRL"
      }
    },
    {
      "cell_type": "code",
      "source": [
        "person.pop(\"age\")"
      ],
      "metadata": {
        "colab": {
          "base_uri": "https://localhost:8080/"
        },
        "id": "EzJ8WR24BuIx",
        "outputId": "5ceaed0f-da3f-41d0-81b9-439539e65bdc"
      },
      "execution_count": null,
      "outputs": [
        {
          "output_type": "execute_result",
          "data": {
            "text/plain": [
              "21"
            ]
          },
          "metadata": {},
          "execution_count": 9
        }
      ]
    },
    {
      "cell_type": "code",
      "source": [
        "person"
      ],
      "metadata": {
        "colab": {
          "base_uri": "https://localhost:8080/"
        },
        "id": "Sx4HJ2wMByb1",
        "outputId": "1d214be7-f1c0-4add-f8e5-77f4ff13c7ad"
      },
      "execution_count": null,
      "outputs": [
        {
          "output_type": "execute_result",
          "data": {
            "text/plain": [
              "{'id': 1, 'name': 'Alice', 'job': 'Data analyst'}"
            ]
          },
          "metadata": {},
          "execution_count": 10
        }
      ]
    },
    {
      "cell_type": "markdown",
      "source": [
        "### Lists           \n",
        "\n",
        "**Type:** list    \n",
        "\n",
        "**Description:** Ordered sequence of objects.\n",
        "\n",
        "The list type is probably the most commonly used collection type in Python.\n",
        "\n",
        "List items are ordered, changeable, and allow duplicate values.\n",
        "\n",
        "A list can be created by enclosing values, separated by commas, in square brackets.\n",
        "\n",
        "List items are indexed, the first item has index [0], the second item has index [1] etc.\n",
        "\n",
        "**Example:** [10, \"hello\", 200.3]"
      ],
      "metadata": {
        "id": "3_JJgYH7YR6A"
      }
    },
    {
      "cell_type": "code",
      "source": [
        "a = [\"apple\", \"banana\", \"cherry\", \"orange\", \"kiwi\"]"
      ],
      "metadata": {
        "id": "zk-VLsJrYQ5n"
      },
      "execution_count": null,
      "outputs": []
    },
    {
      "cell_type": "code",
      "source": [
        "type(a)"
      ],
      "metadata": {
        "colab": {
          "base_uri": "https://localhost:8080/"
        },
        "id": "-I08Fd0xYiXn",
        "outputId": "9cc72d99-c985-4121-ecbb-dac9c23ee7d9"
      },
      "execution_count": null,
      "outputs": [
        {
          "output_type": "execute_result",
          "data": {
            "text/plain": [
              "list"
            ]
          },
          "metadata": {},
          "execution_count": 37
        }
      ]
    },
    {
      "cell_type": "markdown",
      "source": [
        "#### Access Items\n",
        "\n",
        "List items are indexed and you can access them by referring to the index number:"
      ],
      "metadata": {
        "id": "o2jftTIikisW"
      }
    },
    {
      "cell_type": "code",
      "source": [
        "a[0]"
      ],
      "metadata": {
        "colab": {
          "base_uri": "https://localhost:8080/",
          "height": 36
        },
        "id": "RkiTBrCekhl4",
        "outputId": "d92102e9-d15c-4af4-927e-18955a426d27"
      },
      "execution_count": null,
      "outputs": [
        {
          "output_type": "execute_result",
          "data": {
            "text/plain": [
              "'apple'"
            ],
            "application/vnd.google.colaboratory.intrinsic+json": {
              "type": "string"
            }
          },
          "metadata": {},
          "execution_count": 38
        }
      ]
    },
    {
      "cell_type": "markdown",
      "source": [
        "#### Negative Indexing\n",
        "\n",
        "Negative indexing means start from the end\n",
        "\n",
        "-1 refers to the last item, -2 refers to the second last item etc."
      ],
      "metadata": {
        "id": "O0MK9GpDtVuV"
      }
    },
    {
      "cell_type": "code",
      "source": [
        "a[-1]"
      ],
      "metadata": {
        "colab": {
          "base_uri": "https://localhost:8080/",
          "height": 36
        },
        "id": "mkPYj10_tO1i",
        "outputId": "946b8d40-c932-4c82-fa2b-549748cdf865"
      },
      "execution_count": null,
      "outputs": [
        {
          "output_type": "execute_result",
          "data": {
            "text/plain": [
              "'kiwi'"
            ],
            "application/vnd.google.colaboratory.intrinsic+json": {
              "type": "string"
            }
          },
          "metadata": {},
          "execution_count": 39
        }
      ]
    },
    {
      "cell_type": "markdown",
      "source": [
        "#### Range of Indexes\n",
        "\n",
        "You can specify a range of indexes by specifying where to start and where to end the range.\n",
        "\n",
        "When specifying a range, the return value will be a new list with the specified items."
      ],
      "metadata": {
        "id": "yoTRGOeduTmX"
      }
    },
    {
      "cell_type": "code",
      "source": [
        "a[2:4]"
      ],
      "metadata": {
        "colab": {
          "base_uri": "https://localhost:8080/"
        },
        "id": "AePDu6zQuYRa",
        "outputId": "2957beb1-b5c1-4d65-cd81-467b0adbea09"
      },
      "execution_count": null,
      "outputs": [
        {
          "output_type": "execute_result",
          "data": {
            "text/plain": [
              "['cherry', 'orange']"
            ]
          },
          "metadata": {},
          "execution_count": 40
        }
      ]
    },
    {
      "cell_type": "markdown",
      "source": [
        "By leaving out the start value, the range will start at the first item:"
      ],
      "metadata": {
        "id": "XyFuNuZsu66c"
      }
    },
    {
      "cell_type": "code",
      "source": [
        "a[:4]"
      ],
      "metadata": {
        "colab": {
          "base_uri": "https://localhost:8080/"
        },
        "id": "sd56ZZPSu7zA",
        "outputId": "46200587-aa3a-4586-f0df-21aba18a73ba"
      },
      "execution_count": null,
      "outputs": [
        {
          "output_type": "execute_result",
          "data": {
            "text/plain": [
              "['apple', 'banana', 'cherry', 'orange']"
            ]
          },
          "metadata": {},
          "execution_count": 41
        }
      ]
    },
    {
      "cell_type": "markdown",
      "source": [
        "By leaving out the end value, the range will go on to the end of the list:"
      ],
      "metadata": {
        "id": "In_bsoIZvHfT"
      }
    },
    {
      "cell_type": "code",
      "source": [
        "a[2:]"
      ],
      "metadata": {
        "colab": {
          "base_uri": "https://localhost:8080/"
        },
        "id": "SOs-IvFmvIaG",
        "outputId": "528e2489-4ce0-483d-c1f0-17a828bea464"
      },
      "execution_count": null,
      "outputs": [
        {
          "output_type": "execute_result",
          "data": {
            "text/plain": [
              "['cherry', 'orange', 'kiwi']"
            ]
          },
          "metadata": {},
          "execution_count": 42
        }
      ]
    },
    {
      "cell_type": "markdown",
      "source": [
        "#### Adding an element into a list"
      ],
      "metadata": {
        "id": "0GnIPJByr-EF"
      }
    },
    {
      "cell_type": "code",
      "source": [
        "a.append('orange')\n",
        "a"
      ],
      "metadata": {
        "colab": {
          "base_uri": "https://localhost:8080/"
        },
        "id": "_ttN5LmTwf0-",
        "outputId": "7a9c99e4-4a77-4e4d-9459-52fdc43331b6"
      },
      "execution_count": null,
      "outputs": [
        {
          "output_type": "execute_result",
          "data": {
            "text/plain": [
              "['apple', 'banana', 'cherry', 'orange', 'kiwi', 'orange']"
            ]
          },
          "metadata": {},
          "execution_count": 43
        }
      ]
    },
    {
      "cell_type": "markdown",
      "source": [
        "#### Insert Items\n",
        "To insert a new list item, without replacing any of the existing values, we can use the **insert()** method.\n",
        "\n",
        "The **insert()** method inserts an item at the specified index:"
      ],
      "metadata": {
        "id": "NEkI0NcpwOXE"
      }
    },
    {
      "cell_type": "code",
      "source": [
        "a.insert(2, \"watermelon\")\n",
        "a"
      ],
      "metadata": {
        "colab": {
          "base_uri": "https://localhost:8080/"
        },
        "id": "Dr9ws4SrxNnV",
        "outputId": "43be0733-d36f-4842-8ae6-1c95f31e428c"
      },
      "execution_count": null,
      "outputs": [
        {
          "output_type": "execute_result",
          "data": {
            "text/plain": [
              "['apple', 'banana', 'watermelon', 'cherry', 'orange', 'kiwi', 'orange']"
            ]
          },
          "metadata": {},
          "execution_count": 44
        }
      ]
    },
    {
      "cell_type": "markdown",
      "source": [
        "#### Remove Specified Item\n",
        "\n",
        "The **remove()** method removes the specified item."
      ],
      "metadata": {
        "id": "L36fGwyH3vcT"
      }
    },
    {
      "cell_type": "code",
      "source": [
        "a.remove(\"banana\")\n",
        "a"
      ],
      "metadata": {
        "colab": {
          "base_uri": "https://localhost:8080/"
        },
        "id": "r84qH_qW38G_",
        "outputId": "e94cdf25-79ce-4194-82f2-738f29c13165"
      },
      "execution_count": null,
      "outputs": [
        {
          "output_type": "execute_result",
          "data": {
            "text/plain": [
              "['apple', 'watermelon', 'cherry', 'orange', 'kiwi', 'orange']"
            ]
          },
          "metadata": {},
          "execution_count": 45
        }
      ]
    },
    {
      "cell_type": "markdown",
      "source": [
        "#### Check if Item Exists\n",
        "\n",
        "To determine if a specified item is present in a list use the **in** keyword:"
      ],
      "metadata": {
        "id": "zY4mnKDTvm2r"
      }
    },
    {
      "cell_type": "code",
      "source": [
        "if \"apple\" in a:\n",
        "  print(\"Yes, 'apple' is in the a list\")"
      ],
      "metadata": {
        "colab": {
          "base_uri": "https://localhost:8080/"
        },
        "id": "m73Q4Ce8vrM5",
        "outputId": "71eed183-29e7-4c24-d26a-ae6bdd51bc49"
      },
      "execution_count": null,
      "outputs": [
        {
          "output_type": "stream",
          "name": "stdout",
          "text": [
            "Yes, 'apple' is in the a list\n"
          ]
        }
      ]
    },
    {
      "cell_type": "markdown",
      "source": [
        "#### Empty list\n",
        "\n",
        "\n",
        "\n"
      ],
      "metadata": {
        "id": "ixre5biumrio"
      }
    },
    {
      "cell_type": "code",
      "source": [
        "empty_list = []"
      ],
      "metadata": {
        "id": "g7M9F9WKnSnK"
      },
      "execution_count": null,
      "outputs": []
    },
    {
      "cell_type": "markdown",
      "source": [
        "A list can contain another list as its element:"
      ],
      "metadata": {
        "id": "u8W87J9ZnZey"
      }
    },
    {
      "cell_type": "code",
      "source": [
        "nested_list = [['a', 'b', 'c'], [1, 2, 3]]"
      ],
      "metadata": {
        "id": "uFCfRC1MnbmQ"
      },
      "execution_count": null,
      "outputs": []
    },
    {
      "cell_type": "markdown",
      "source": [
        "#### List Length"
      ],
      "metadata": {
        "id": "yKXseHRutjRE"
      }
    },
    {
      "cell_type": "code",
      "source": [
        "len(nested_list)"
      ],
      "metadata": {
        "colab": {
          "base_uri": "https://localhost:8080/"
        },
        "id": "M-ztObZUtlAI",
        "outputId": "27eb90df-d343-46c2-c478-2b93a16f59ca"
      },
      "execution_count": null,
      "outputs": [
        {
          "output_type": "execute_result",
          "data": {
            "text/plain": [
              "2"
            ]
          },
          "metadata": {},
          "execution_count": 49
        }
      ]
    },
    {
      "cell_type": "markdown",
      "source": [
        "### Sets            \n",
        "\n",
        "**Type:** set     \n",
        "\n",
        "Description: Unordered collection of unique objects\n",
        "\n",
        "**Example:** {\"a\", \"b\"}"
      ],
      "metadata": {
        "id": "uxqux6uNYkCU"
      }
    },
    {
      "cell_type": "code",
      "source": [
        "collection = {\"a\", 1, \"d\"}"
      ],
      "metadata": {
        "id": "FQpk600rYtSf"
      },
      "execution_count": null,
      "outputs": []
    },
    {
      "cell_type": "code",
      "source": [
        "type(collection)"
      ],
      "metadata": {
        "colab": {
          "base_uri": "https://localhost:8080/"
        },
        "id": "UdeodovDYzSR",
        "outputId": "74cd6a9f-db2c-43bc-959b-e61013f8f954"
      },
      "execution_count": null,
      "outputs": [
        {
          "output_type": "execute_result",
          "data": {
            "text/plain": [
              "set"
            ]
          },
          "metadata": {},
          "execution_count": 26
        }
      ]
    },
    {
      "cell_type": "markdown",
      "source": [
        "### Tuples          \n",
        "\n",
        "**Type:** tuple     \n",
        "\n",
        "**Description:** Ordered immutable sequence of objects\n",
        "\n",
        "**Examples:** (10, \"hello\", 200.3)"
      ],
      "metadata": {
        "id": "HjTeS3K8Y2Lr"
      }
    },
    {
      "cell_type": "code",
      "source": [
        "sequence = (15, 400.2, \"Hi\")"
      ],
      "metadata": {
        "id": "SOLqrYBZZAJz"
      },
      "execution_count": null,
      "outputs": []
    },
    {
      "cell_type": "code",
      "source": [
        "type(sequence)"
      ],
      "metadata": {
        "colab": {
          "base_uri": "https://localhost:8080/"
        },
        "id": "xviiRLWmZFJ6",
        "outputId": "8b3c08e6-824b-4c6d-da06-0ee8d29b9592"
      },
      "execution_count": null,
      "outputs": [
        {
          "output_type": "execute_result",
          "data": {
            "text/plain": [
              "tuple"
            ]
          },
          "metadata": {},
          "execution_count": 28
        }
      ]
    },
    {
      "cell_type": "markdown",
      "source": [
        "## Section 1.2.3: Assigning values to variables\n",
        "\n",
        "You can assign multiple values to multiple variables in one line. Note that there must be the same number of arguments on the right and left sides of the = operator:"
      ],
      "metadata": {
        "id": "-hukTfb3aIdy"
      }
    },
    {
      "cell_type": "code",
      "source": [
        "a, b, c = 40, \"Bonjour\", ['1', 2]"
      ],
      "metadata": {
        "id": "IGCaANHQaPzu"
      },
      "execution_count": null,
      "outputs": []
    },
    {
      "cell_type": "code",
      "source": [
        "print(a)"
      ],
      "metadata": {
        "id": "MTd5zn_Raa-k",
        "colab": {
          "base_uri": "https://localhost:8080/"
        },
        "outputId": "70b9de8d-7da3-4a97-8391-0c66f5f03aba"
      },
      "execution_count": null,
      "outputs": [
        {
          "output_type": "stream",
          "name": "stdout",
          "text": [
            "40\n"
          ]
        }
      ]
    },
    {
      "cell_type": "markdown",
      "source": [
        "You can also assign a single value to several variables simultaneously."
      ],
      "metadata": {
        "id": "AMIOXUmjakzh"
      }
    },
    {
      "cell_type": "code",
      "source": [
        "a = b = c = 1"
      ],
      "metadata": {
        "id": "HIS1aZ7aavrn"
      },
      "execution_count": null,
      "outputs": []
    },
    {
      "cell_type": "code",
      "source": [
        "print(a, b, c)"
      ],
      "metadata": {
        "colab": {
          "base_uri": "https://localhost:8080/"
        },
        "id": "RdghqUKbay5Q",
        "outputId": "c8003941-24ac-4f45-a715-2c70e740bc5c"
      },
      "execution_count": null,
      "outputs": [
        {
          "output_type": "stream",
          "name": "stdout",
          "text": [
            "1 1 1\n"
          ]
        }
      ]
    },
    {
      "cell_type": "code",
      "source": [
        "a = 2"
      ],
      "metadata": {
        "id": "FWY0RlPbbLzH"
      },
      "execution_count": null,
      "outputs": []
    },
    {
      "cell_type": "code",
      "source": [
        "print(a,b,c)"
      ],
      "metadata": {
        "colab": {
          "base_uri": "https://localhost:8080/"
        },
        "id": "mvDRAaChbO8Z",
        "outputId": "1401974e-3f8e-4792-c68e-69f6834cb150"
      },
      "execution_count": null,
      "outputs": [
        {
          "output_type": "stream",
          "name": "stdout",
          "text": [
            "2 1 1\n"
          ]
        }
      ]
    },
    {
      "cell_type": "markdown",
      "source": [
        "The above is also true for mutable types (like list, dict, etc.) just as it is true for immutable types (like int, string, tuple, etc.):"
      ],
      "metadata": {
        "id": "nE56E9tpbQ7o"
      }
    },
    {
      "cell_type": "code",
      "source": [
        "a = b = [4, 5, 6]"
      ],
      "metadata": {
        "id": "IWeWWBIobWYY"
      },
      "execution_count": null,
      "outputs": []
    },
    {
      "cell_type": "code",
      "source": [
        "a = [9, 100]"
      ],
      "metadata": {
        "id": "g3bVrRUMbaG2"
      },
      "execution_count": null,
      "outputs": []
    },
    {
      "cell_type": "code",
      "source": [
        "print(a,b)"
      ],
      "metadata": {
        "colab": {
          "base_uri": "https://localhost:8080/"
        },
        "id": "iEv2P82kbcx-",
        "outputId": "e3335211-75df-430f-bd8b-e9e1b4f14dd2"
      },
      "execution_count": null,
      "outputs": [
        {
          "output_type": "stream",
          "name": "stdout",
          "text": [
            "[9, 100] [4, 5, 6]\n"
          ]
        }
      ]
    },
    {
      "cell_type": "markdown",
      "source": [
        "## Section 1.2.4: Converting between datatypes\n",
        "\n",
        "You can perform explicit datatype conversion.\n",
        "\n",
        "For example, '123' is of str type and it can be converted to integer using int function."
      ],
      "metadata": {
        "id": "iweN9U8hlTHM"
      }
    },
    {
      "cell_type": "code",
      "source": [
        "a = '123'\n",
        "b = int(a)"
      ],
      "metadata": {
        "id": "PLic3kuHlZRU"
      },
      "execution_count": null,
      "outputs": []
    },
    {
      "cell_type": "code",
      "source": [
        "a"
      ],
      "metadata": {
        "colab": {
          "base_uri": "https://localhost:8080/",
          "height": 36
        },
        "id": "n88Y50GJ6c2c",
        "outputId": "2099a989-8cb8-4e51-9a03-4db018376850"
      },
      "execution_count": null,
      "outputs": [
        {
          "output_type": "execute_result",
          "data": {
            "text/plain": [
              "'123'"
            ],
            "application/vnd.google.colaboratory.intrinsic+json": {
              "type": "string"
            }
          },
          "metadata": {},
          "execution_count": 84
        }
      ]
    },
    {
      "cell_type": "code",
      "source": [
        "b"
      ],
      "metadata": {
        "colab": {
          "base_uri": "https://localhost:8080/"
        },
        "id": "2iLoNrbMlhW9",
        "outputId": "5947eec5-2b41-4b45-d5e0-7bcb7c04e9b8"
      },
      "execution_count": null,
      "outputs": [
        {
          "output_type": "execute_result",
          "data": {
            "text/plain": [
              "123"
            ]
          },
          "metadata": {},
          "execution_count": 85
        }
      ]
    },
    {
      "cell_type": "code",
      "source": [
        "type(b)"
      ],
      "metadata": {
        "colab": {
          "base_uri": "https://localhost:8080/"
        },
        "id": "Hp1MPD00leuu",
        "outputId": "738e57fd-5e5b-4504-f24c-92f83d6bde0a"
      },
      "execution_count": null,
      "outputs": [
        {
          "output_type": "execute_result",
          "data": {
            "text/plain": [
              "int"
            ]
          },
          "metadata": {},
          "execution_count": 86
        }
      ]
    },
    {
      "cell_type": "markdown",
      "source": [
        "Converting from a float string such as '123.456' can be done using float function.\n"
      ],
      "metadata": {
        "id": "yPLJ8-dzltlx"
      }
    },
    {
      "cell_type": "code",
      "source": [
        "a = '123.456'\n",
        "b = float(a)\n",
        "b"
      ],
      "metadata": {
        "colab": {
          "base_uri": "https://localhost:8080/"
        },
        "id": "jO4Tms8tlufr",
        "outputId": "6a1b3304-30b8-4d3b-cc8e-238aedeb45bc"
      },
      "execution_count": null,
      "outputs": [
        {
          "output_type": "execute_result",
          "data": {
            "text/plain": [
              "123.456"
            ]
          },
          "metadata": {},
          "execution_count": 11
        }
      ]
    },
    {
      "cell_type": "code",
      "source": [
        "c = int(b)\n",
        "c"
      ],
      "metadata": {
        "colab": {
          "base_uri": "https://localhost:8080/"
        },
        "id": "oWk2V2SYl1yd",
        "outputId": "bd71336c-d1fc-4861-fdff-bdd1298bb88e"
      },
      "execution_count": null,
      "outputs": [
        {
          "output_type": "execute_result",
          "data": {
            "text/plain": [
              "123"
            ]
          },
          "metadata": {},
          "execution_count": 12
        }
      ]
    },
    {
      "cell_type": "markdown",
      "source": [
        "You can also convert sequence or collection types"
      ],
      "metadata": {
        "id": "SA9FrMq-mJC-"
      }
    },
    {
      "cell_type": "code",
      "source": [
        "a = 'hello !'"
      ],
      "metadata": {
        "id": "vEoE2HLXmJ-y"
      },
      "execution_count": null,
      "outputs": []
    },
    {
      "cell_type": "code",
      "source": [
        "set(a)"
      ],
      "metadata": {
        "colab": {
          "base_uri": "https://localhost:8080/"
        },
        "id": "538nFvA0mPVd",
        "outputId": "41dbbcba-a30f-4e96-be6a-9b3188adf359"
      },
      "execution_count": null,
      "outputs": [
        {
          "output_type": "execute_result",
          "data": {
            "text/plain": [
              "{' ', '!', 'e', 'h', 'l', 'o'}"
            ]
          },
          "metadata": {},
          "execution_count": 15
        }
      ]
    },
    {
      "cell_type": "code",
      "source": [
        "tuple(a)"
      ],
      "metadata": {
        "colab": {
          "base_uri": "https://localhost:8080/"
        },
        "id": "iqr3_e5JmRle",
        "outputId": "5d405bec-8ee4-4f95-aecb-b4dd7ca254d3"
      },
      "execution_count": null,
      "outputs": [
        {
          "output_type": "execute_result",
          "data": {
            "text/plain": [
              "('h', 'e', 'l', 'l', 'o', ' ', '!')"
            ]
          },
          "metadata": {},
          "execution_count": 16
        }
      ]
    },
    {
      "cell_type": "code",
      "source": [
        "list(a)"
      ],
      "metadata": {
        "colab": {
          "base_uri": "https://localhost:8080/"
        },
        "id": "45o6Nh9fmM8H",
        "outputId": "821b3b33-23ef-4e48-cccd-a6ca20aeae11"
      },
      "execution_count": null,
      "outputs": [
        {
          "output_type": "execute_result",
          "data": {
            "text/plain": [
              "['h', 'e', 'l', 'l', 'o', ' ', '!']"
            ]
          },
          "metadata": {},
          "execution_count": 14
        }
      ]
    },
    {
      "cell_type": "markdown",
      "source": [
        "# Section 1.3: Math Operators\n",
        "\n",
        "From highest to lowest precedence:"
      ],
      "metadata": {
        "id": "YI9R9w2XpZ17"
      }
    },
    {
      "cell_type": "markdown",
      "source": [
        "![math_operations.PNG](data:image/png;base64,iVBORw0KGgoAAAANSUhEUgAAA0oAAAGXCAYAAACN5aA1AAAAAXNSR0IArs4c6QAAAARnQU1BAACxjwv8YQUAAAAJcEhZcwAAEnQAABJ0Ad5mH3gAAExUSURBVHhe7d2JmxzVfe7x+xf48XJt7Pjxbj9ekyfXDvF6fX1tcx1jE4IdG0IcTOKVOJDEDgFiTMCxMeE6sbEJ+OIlBIOEJBYhmUWAjIRAQqwCIdCGhIQEmn1fNdK59Z7u3+jMT1U93T3TM9Mz38/zHEZTXV1d3UOdc946p6r/WwAAAAAATEBQAgAAAACHoAQAAAAADkEJAAAAAByCEgAAAAA4BCUAAAAAcAhKAAAAAOAQlAAAAADAISgBAAAAgENQAjCt9j1/IJzxre+Gr/ztBWHnrr3lpQAAAM1lykFpZHQ0PP7k1nDPugfD3Ws2xH9rGYCJFsqxsvjG28J7/vfnYtG/AWAuGhwaDh2d3YWlf2CwvOb8sP7BTbFe/tif/FXYtvPZ8lIAldQdlA4dPhyW37o6fPTEvxrvFFn5X5/+Ylhy8+3h4MGx8trNY+MjT4QfXv6f4ar/WjbvKknMjoV2rOx6dl8cTfrb834Qnj/QWl4KAHNLelInr1z871eV15wfCEpA7eoKSurU/fsV/xWO/djJR1UsaVEnqtk6gFZxfvaLfxfPKAFTwbECAHMTQQnAZOoKSus2PBLe/4lT4wH3mdP+Njz02JOxk6cz549s2hKX6TF1Du9asz4+53D2WE9v3/hwttbVgbp2/cPh8S3bCjuJ6Xo6yDu7esqPlOjxru7euF0No2s72p7Wb+/oiuvotZ/bfyAuezjbV72+pjzpOdqenmO///Lam+K+/8kXzgzP7N4b91nPN+n+3L/x0XCgpX3C42LD+dovrd/S1hHX1VSrsbHS+9Tr6v1oO9pes3WSUZ2FeKxoHa2rdfzUwnT7Knueez7uV6rSfur9+fUBoB7VnuxRPajHrU4yaV2X9hXSutimWPt+gRT1FVT3Dg2XXietM339X2tdWSko9fT20ycBctQclHQwnnXuxfFg+6M//WrYun1X+ZEjnt27P3zq5DPiOl//5kWxkkmf942zvxen5ujfVk7+0reOuvBbnag//+o/TljvvcedEv7f1UvHD2JVEKrk9NhPrro2nHnO9+O/jz/56/H5eu2LLr1iwhl9VRKX/PgX4/9WpWAViC/aZ+27bNuxO+6nX+fv/+mS0NF1pJK1yvekvzgrXLt0ZfjgH30h/q79035r//U+0m18+pS/Dhse2jRe0aL5LdRjRetoXS3TukYnFc74h+8e9Tztt17fpPv5Lz/82VHv6x8v/LfxYxIA6lVtUErradWbqivFnq82/v6Nj8Vlbe2dR9VzOiF2/vd/Ev+dvpY9X+2/6rq0X/BnXzk7PPPsc+GfL7l8fJnKaWecF1pa2+Pz07pS27cTb1a0H9ofkxeU1D78esmKo/okee0MsBDVHJTUoVHHSgeSOlB5HXstu+xnv47rHPeZL8ezzWnnT0UH5Yl//jex2AGqDpEd1KoIVFFoua7j0HNPzR5XJ05l6fI74nppRWFn7lXUuezt6w+X/3zR+LITTv1G3I62Z8uq7fzteGZP7Oxqme27KjfrVCos+cpTj73vuD8b35Yu4H/k8afifqpi/fk1N4Tb7ro3fOXv/jn8z0+dFu5d/3B8PuaHhXqs5AUl7asFHu2Tjp30/Wj/8xp/leNO+nLcth1/2neNzAHAVFhbrbrl1jvXxtEUK+kMEFH7bCc9VVfu3rNvPDzpd9XlIyOj4bzv/iguUz33udP/PoYVe55KXlBSsXr+k5/72vgy9Qvyll+9aHl8vq8r9To6QZv2Tb55/qXjJ5Z8UNI+X3/TbeNthfb37At+OF7vp+0MsFDVHJTSTpAO8iIr71gT19EF7BqJSTt/OpjTUJBWQHqeqCLQ72kHSgf1ohtujcv/4uvnjk9PsopC29DjOrD3v9A6oaN66U9+FSsxUadQZ+q13CoMYxVXWpmpsvzu/70yLk9HBrQ/q+99YLzTafueVn5/deb5cfsvtLSFgSxI2eeiimz/8y1xfQ2Pa3+1PcwfC/FYkfR9W1CyffTv58mnd4yvq1EuSfczPXur40XHjZZX+jwBoBppW+2LnfgxqlPtZJLqMaujdKJT09bEToQqdKh+talvqrs+/1ffjOun9aW9vp6z5r4H4zLVvQorWv6RE04Pjz3xdFyu19Brafk5F/77+BRo2w/fN7EApG1rv8QHJfVLFKy0nta3PohG/21/rZ0BFqqGBaVlt6yacECmnT87yI3+rWV6TBdPam6uRmj0++nf+Kd4obuVb3/vsnjg23bTiuKCH1w+4QyQVQrWAU1pdEeP2XZMXudPc5Ct0vjFr2+Iy0xf/8D41Kjv/fBnsaKxbehs0OantpfXLEk/P1W237n4J3E/mQ88/yzEY0XS963tpvvoX1f/1jI9pkA2MDg0YT+vW/ab8pohPmahzUIVANTL6jAbtdHUNSuahmzXCRmdtLG6TEX13NPJlGrbnsKHH4lR30GPpfVlUR2qei9vuep8LbcQl9aVvk7UyTGdJNNj1v74oKQ7lyokqa+i95u2H5/7y1KfZ77d0AKoVc1BSQe/KgEdQDrrYWeeU+r0X/iv/xHX+eNT/ybeIjjt/OUdeFYBXPSvV4T+rENk6xaVvM6f365VCunojfEVhsmruNLXsArH6L2qQ6rHVIGqYrVt+G2LgpSuRbIz41Y0hO/XRXNbiMeKaB2tq8f03Mnez8/+c0l8TCcj7MLovONtsu0AQC2K6rBKVq2+Lz5HxU7uGNveX/7N+eOjTCbvtYpev2i51f2qB31Q0nNSaX1pU/V8XW6/VyrUtVjoag5K6TQ0jYhouNiGa006PUjr6jnpQWsXrRv9W8v0WJz2k5w1Vyey0mhLWlH4A9qGwVX8NQ36Xhs9p5rOX3pmxt6PUcfOrr3Qvottw287pSF5TXfSUL59v44fPUBzW4jHiviglO6jfz/pNBM70VDU+BOUAEynojqsiKa22bWSKn7Kmk2j1jq6hsnocbsWNX2totcvWl4pKPm+iU2r02OatSA+KFm9ryl+T2yZOPsFQEnNQUn8jQ2+nx2896x7MBb92y7QTufMpp0cVS7/uejm2ElS0b+1TOW36zbG9Vfcfs/4sh9deU08O6PKRtdT/Oq6m8Y7W2lF4TtPaYjR9DidKdc2NB3O9r+azp+ek85N1kWf6pDqmiNNt9PytINp28gLSgpId6y+b8L0Jhtmt8oP88dCO1bEByVJ91G3FVcgSt+P1lUgk3Q/9RqGoARgOlkdpjou72YO6S2/VY/atDvdIEF3qdO/05ChcGT1pabV222/dS2znRBL68uiOrRoeaWgpO3r5lB6vbRvov3bsnVnfL4PSto/3UVPyzTdUF9Zoefr5JZGzqz+BhayuoKS6Pth0jti+aLHtI5JOzlFJb07S1op5RWdndEBnVYUeZ0n66D55yvY6Ge1nT9No9I1IOk20qI5vXY237aRF5TUSbQOo+4w863vXDpegdrwOOaXhXas5AUl7atu623b9EX7nxfo9Bom/VwISgCmyuqwomKBJD1ZqrpN1yWpT2Anl+xGOul6vlg9mtaXRXVo0fJKQamo6AvPbaTJByVJZzX4ojvt6RblwEJWd1CSvfteiBdipweZzpCf/c8/jNPKUmknR2esdfDa8/QcDRvrDlspnXW+6r+WjU9NU9Fz/vWyX4bW8oWSaUWR13lSB1Fnqm0b6gjq+wZsiLzazp/oLI0umEzfr7ar2y+nU55sG37bUvSe9H03OsOO+WkhHSt5QUn0//eSm28/ah/VsdD+m3Q/9RqGoARgOlkdVlQskKRhQic7bZRJIzC23E6Wqp5Te57W2eo32Bd0p/VlUR1atLxSUFJborZBr6ff9fq+X5EXlER3H9Ud9dITZfoeJU0XV7sALGRTCkpGB5KGcG2YOU/aybGDXJWKpvxMdl2OKiUNgVfa/mRsH/W6U2XbSoflazUd7wnNx/7fqfR3n0/HSh7+3wcw31VbZ09FGpTs5JFeT6+bnrytlp6rbTaq7gea0bQEpWrkdf4AHI1jBQAwmbygBGB6EZSAOYZjBQAwGYIS0HgzFpR0DYK+0Kzoi9wAlHCsAAAmo+nL+i4ntRX/8cvF5aUAptOMBSUAAAAAaBYEJQAAAABwCEoAAAAA4BCUAAAAAMAhKAEAAACAQ1ACAAAAAIegBAAAAAAOQQkAAAAAHIISAAAAADgEJQAAAABwCEoAAAAA4BCUAAAAAMAhKAEAAACAQ1ACAAAAAKfmoPTQlj0UCoVCoVAoFAqF0pSlWowoAQAAAIBDUAIAAAAAh6AEAAAAAA5BCQAAAAAcghIAAAAAOAQlAAAAAHAISgAAAADgEJQAAAAAwCEoAQAAAIBDUAIAAAAAh6AEAAAAAA5BCQAAAAAcghIAAAAAOAQlAAAAAHAISgAAAADgEJQAAAAAwCEoAQAAAIBDUAIAAAAAZ0pBqWP4UHjfrR2x6N9Ffr59MLzoupb4EwAAAADmurqC0poXRsIX13WH3X1j4QO3dcSif2uZHpPhQ4fD1zf0hBufHQpX7ywFJf3U71quxwEsPKoH/mBle7jgsb7yEgAAgLmn5qB0MMs3f3pPVww+717RPj6ipH9rmR7TOqufHwmvXNIaXra4Jfzx6q7wxhva4k/9ruV6HJjv7CRBXjnn4YUZFE76ban+WKjvH8Ds29J1MLzt5rbYJ7l6B7NdZsJV2wbj5/2O5e1he89YeSkwt9U1oqQg9NOnB8Jrl7WOd/r0by3TY2ZbdiAcf3dXePGi0jr6qd+1HFgICEpHIygBmAvu3D8SXr20tbDj3jd6OJz3SF9cR3XWW29qC9c+MxTqmQ9zxoae+Pxn+/L7P5s7D4bX39AWzn+09npRdam1K+pnvSt7P8v3DJcfnTmaWfSprI+nMKR90QnyK7YOjH9e+nlu9nlqH09d283MIjQFghLQQBaUND21c+To6/iGxg6HU7IGQ+u8/9aO0DpUWkcN9MdXdcblp9/XExsYawzP2tgbG+9jlrTGY+rYlR3hkfbR+DzRMXjl1sHw9pvb4uO2zi17h8cbLNuvE1d3TTiW1WFYe2DiaO8DbaPho3d0xsZP21IjrCm0tq1dWeP45hvbYlmyeyi+ltbT/n3v8f64no0w6zXyip6r7QDATLJRDt9xH82qYtW9vq6qZUaMtvYPD/XGcKB6W3X8r3YMxrrdgtmmjoPhE3d2xrpT9eCPnxoIp63rrmlqchqUrLxuWVt4KGkXGk3tm9o5vx/HXN8abt93JLRZm8dIHpoFU++ABposKIlNAVG4+Hb5bKIaS/3+npXtYf9A6XnWGL40W66fabEzomqY7YydX0fHnjoFYvv1kmw9v66CjgU2O+OaPq6SNnIWlLQdbS9dzxpJghKAZqNrrk9e0x329I/Fk1dfuLd0UuviJ/rLa1SmvtA1O4diPW71owKM6ui28g2wVO996f6eeGJJ2/7vi1vDR+7oDKuyulf1ea26Rkon2fR6i3YNlZc2nrUDem3tg/wka8f0ntTeAM2KmzkADWT/7+eVtPFYsXc4hgqN7PxXtlxTNBQs1FgaC0pqAHWmU43Rg22j4Q03tMXll2WN0vrW0RhsFKa+/3h/PHunoKWRXK1jgS3dL53l1CivXkuvaScydIyesLprwrZU9G8t0yhTf9YTsAZS29JrL84a5wNZ0NJ2tUz7nWLqHYBmZHWw6tpqzEZQUqjTyetaR5SsXvZFy6uhk2s6yfamrC3Q6JhOAKoN0EnyJ7N/A82qrqBkuD04UFm1QUkNoo0EKYTop35PG0prpDVNQ4FF9F9Nn9NyTdfQmU792x+TCmIvzxrg12RBbGMWrmy/FMisEbPAY0EpDUB5xUaBbD3tt+ajm6JARFAC0GwUBNTx18msDa3VBRDVzzMx9U6sfVBJZw9Ua6pBSdS2aHaDPVfXXN3rpnIDzWZKQQlAZRZIKk29MxqV1RQ8ra8As6N34lQ0awh9w2UNnH4WrWNT3ywE5e2XD0r2HK2XV3xQsucZ2y+CEoBmZtfV5J3AqlYjb+YgaVBSUaC7O6mPZ4JudPE7S0szI2zKtkbHbCo30IwISkADVRuU1PBqOp0aYt2EQc/xFxfnhSDNm1dDpOVqiNXI5r2ejSipIVaDXE1QsoZbDZ6m9BUhKAGYrxSSvnx/T5w2d+bG3vHR/LlK06G/+WBvbEs+eVdn1Zc5WL3sS9reVKKZCZpmp5N9mnanqeGfLk/5rvaaLmAuIigBDVRtULI7L3349o54lzn7fo90+oQFJTU+mvuuBvs7WTDSeio37xkeD0T6/ZLNpeuKNGf9g9nr67ma4qGGtJqgpOV6XOsdt6qzcJ55vUHpM9lPBT0AmIs0EnJ8FjZecX1r+NGWI7e5nsvUNvwsazfUDsxkUFLdrzZAbYXqdb3qpVkbpG1wUgzNjKAENJAFkrxijYfmu2uqgm7moKAjdte79BoiC0p5RdNCFIpU7HbjvmhkSHexk2qCkujOdgpdflsqtv+1BqWLNpUaz7To+doOAMwVn1+TX5dOduJrpuWFHNXbM3n7bRtRytsPXX8FNCuCEtBAkwUlnbH8UHnURo2ynf1LR3N04a/O0FlQUsOjEKXylixg/NuTAxOmg2hdfc+S7npk6+sOdRqpMtUGJVn53HB47286jgpM9QYl7Z8ubLY57CoEJQBzTdEoy1wOSqqnVV+n35s3U9RW2PfoqWgauWZFzPR+ANOJoAQ0CQtKahQBAADQWAQloEkQlAAAAGYOQQloEgQlAACAmUNQApoEQQkAAGDmEJQAAAAAwCEoAQAAAIBDUAIAAAAAh6AEAAAAAA5BCQAAAAAcghIAAAAAOAQlAAAAAHAISgAAAADgEJQAAAAAwCEoAQAAAIBDUAIAAAAAh6AEAAAAAA5BCQAAAAAcghIAAAAAOAQlAAAAAHAISgAAAADg1ByU9h7oplAoFAqFQqFQKJSmLNViRAkAAAAAHIISAAAAADgEJQAAAABwCEoAAAAA4BCUAAAAAMAhKAEAAACAQ1ACAAAAAIegBAAAAAAOQQkAAAAAHIISAAAAADgEJQAAAABwCEoAAAAA4BCUAAAAAMAhKAEAAACAQ1ACAAAAAIegBAAAAAAOQQkAAAAAHIISAAAAADg1B6XWoUPhxNVd4cWLWsJrl7WGa58ZKj8SwpoXRsKrl7aG0+/rCYfLywA0zurnR8Irl7SGN9/YFnb1jZWXTk7r6jkvuq5lvHzgto7QOXKovMbMWN86GuuMdyxvD8/WsP/z1Um/7Yp/i3Me7isvAQAAs6XmoKQGXAHpkfbR8IV7u8Nbss7Wjt6x0Dd6OHx8VWfs8GzvocMDzIRmD0pnbuyNr62fzWL40OF4Muili1rCcVmdN52fGUEJAIC5o+agpIbcOlRqzNVJU2ftx08NhJctbglXbB0orwksbGkYOW1dd1ymTvYn7+qMy2oNN3nqDUqpq3cOzkpQ0giSTqxoREkjS6LX135of6yoXnnvbzrCyueG4zqzjaAENL8tXQfD225ui/XL1TsGy0vRSFdtG4yfNyfU0UxqDko68/uGG9rCYx0H44jSO7P/4e/cPxLeelNbOP7urjA0xqQ7QDZ3Hgyvz46VNIQoHOhY0bKFHpQuf3ogTuE9YXVXDB+SF5SsKFBpeu98RlACZo76Ljb1N6/jrpky5z3SF9fRcam6W5cbpL2cB9pGw/tv7Yh1mULAKWu7w/OD1dWj6i99fUNPfJ5m6izZXbqU4clyiPv+4/3x98loO99+9Mh+vuL61vCX9/WErpGZ749tyz7Hk9d0h1dl7ZL2JW2btDfnZp+nPqtTs8/J6n1gLqs5KKkysUrhjVkncPGuofg/vA7yDeWzwgCOhBg1GK/Jjo+NWYO6Yu9w/LeOFx0/1ji3DR8KX13fM6GhU2OjRie1O2tw0kboJdlxqGPRGiMV/dtGek2lDnhRUEpDi9Yx2oaWaZvmYNbeXbl1MLw9a9y1PyqqJ9SJyKMOyEfu6IzrKTAZ/5pqRrUNdRq07IysU2G0jQs39cXPUY/pM9NIjz5Lsc//a9nnaq+lkzsXPNYX19Xz7i5/RvaerGjdY1dOHMWyzzZdr+gz0+v+cvtgPHmkbakjpA5ReiJJ/9IZ1ndlnTSto6K/p7ab/p38/xv6qc6b3r+x/ddP/T/1h78pfYbqAK49ML/DJTAVNsrhO+6j2WGt+kTHUVrSulUj4arP/Tqfz+roakLAvdmxqRPPNz47FOumj2b1VEd2vH/2nq6aTjz7+svKTE9ptuCZ7oM/iaf3pDCpz5yRPDSDmoOSpzMgL1/cGs9mADjCOuqfyxo9jSxd9tRAbNDUadf0O2twdYOUD5XDgS8KCJoiIjZVJG+92Q5KOv7V0dfytPhtmqKbOBS9pu2/OiBijW36WlY+fHvpNe3z1xQ5eywNIyq2vaKORnoCqJag5F9HRcssFKr7Y2dW03Ws2N+p0v8bacfO9l8dI10rmq73e7e0h/0DR/8NAFSmEWydmNrTX7oOW2FGx9TFT5RGenT8feX+nvCL7YPxZJFOvKhe00ybfQMTT3LlUR31umUTg9Ilm/vjSZxNHaV6vxqqH1VXrWsp1VUakVKbk9bRjdaffQCfuLN0QuobD/TEuguYD6YUlNT4vmdlezxzzEEBTKTRI51EOCvrvKoBVIOrn+rUqgGzMHPRpv7Y+KoTfk/WMKvB1U/rlFun+UtZg6zfNf1DowTqIt+2bzgck21nNoNST9aBsM68Rny0/woyGo3RPqfbNEU3cfCvqfdon0UaNG7X+76+NY76qFMg+qnfFYyW7h4aD0o6c/mzbYPxbp3arv4G6pjoc9N+a/89TVmxwGGdolQ1n5le99Ks06MOhM4Qa5l9Zg+1j8YOknUq9Hr63D5998S/k01P1Nll1bfp52GjlGJ/E4Xw/7GiPXayVu0vvf/fyTpuOnMNYGrsONNJrzxW/747OwYPVNEnUj2pgKRjXOHop9nxrhtk1Xqtt+pR1TdnP9QbA9qZD/TGEzXpaP1krI3wxeqsydhU8/dl/UGNigHzRd1BSQ22Dko1xGqQAUxknWk1ripqCHXWTwFKN3dQR11hQh13rfet7HhKKXRouR5XA6zGV78rWBkLA7MZlETvR8vU4KuzvmjXUAwIefJu4mDS10yLtquwYXPubR+Kih63z8YabvsMfr59cPwxe882jU+dFL2W35ZXzWem+tE+Af+ZqaOl3/2Imv872e9Fxf4utn3tu26sA2B66WSwTgpXusxAAUcnaur5ihTVQTo5o3qu2il3RvWinmd1l0LSd7N2opatFNU1VmdNxurUj2Xvwb5CRm2cThSm04SBZlN3ULK5qDobes3OoVh56MDQAcLoEnCkM62OuUY41IDalAzr2KphzQsjYuvo8cc6RmMA8uvNlaCki5d1U4Y0ZOjfurbGN/o2SpLexMGkr5mW/3Nn54R6ZbIAoX30Ycieo/eSPvZc9vf4o/KdCPNKIz4z+90/P/07FX0WabHXsO354AVg6myqr+otTZnN6/ZbnyidLl0L3bhBx289z7XrEnXt5ZvKJ3vUJ7NrMGeC1am+jlJJT+4BzaauoKQGXNcB6CJkTQHSWVh1iDQ/VhVFXscCWGgUkNRIqDOr7xrTcWK3CbeO7ZXbBsanrfnjxkaUdD3TM1nnVyFLv2u75q6scZps6p0aec0dz3sNqaXTrw6CjnUtS4OS0SiSRpNUP6ixVkkv2NWZRY04KTRqPc+/pqaQ2XVZ6b7bZ6NpK0XnKqsNSrfuG47T0zR1RVNfbCAsDS1eLZ+Z2N/bPjNN59Pv6TQVvaxND9T6CpF2K/nJOhq2fb8/AKZG9eeX7++JozSa4pY32qN+kAKKpkXbdNharHlhJE5b+9fN/XFERvXm76+oLjSpntBJJ9VfujGF9k5TflXHajZC0ci+Z/WdL3n1fB6rU/U53JGFRr2s6lPtR7XbAOaiuoKSznzo2gt1gOzgUKfAOmkcFMCRzmvaYTb2mEKPdfrt2iM1MJqep5MOajDV6KWd5s9kx5cCh05M6AyklllQstuPq3HSaJXW+7PymVCtp9f1ijr96bVHmkamu0ClNyCw41zP+WIWAH+V1QfWKD/eeXD8bnTnJzd6Sa8tyht5zgsa+oz0ftIpL6p7tB+qezTVLK/zUm1QuiX7rPVvFU2F1La0Tf2u9Wv5zPL2X+zvbZ+ZXb9mr6m/099mnTD/d7LnqfOhG+cU9XlsPb8/AOqnOur4rN7VSM2PtgzknpTRjBodx6ordVfSWul41YkljVhp+q/qdNVzCkp5dY9ndY7qRwtp+qnfa6kPrH70pdr+nK4RVZ2v96I7daquUj1KUEKzqzko6Qyvbmdp82jt4NAUPBtRyrv4GVhorPOadpiNPaafle5mp8bXAoXCgc4apo+rs63gYUHJzi6m66iosdJPa3ito19UbJ/tpgtpsW1Z45eGA1/ScKNOht01qmiEJN2W7UO6zG67q2VqkO110mKfRbVB6YnO0Tg67rdTz2eWt/9if+/0M8vbf7vVsL2mptRYGPbF3pfY9tNlAKZG9Y0/7tLjTDdJ0Wh03jrp8V9EdaJOPmm2gI51nVRKg1J6kqlIUZ2vUs+1UvXS6+TdTl1tln0/FNCMag5KCkgKSnbrSh0c33u8P07/0dlQVSyz8SVnwFyjmzOoochrMK3TbR1ifV+SGjududRynXDQFDf7TiCxY81GmnTHyeV7hmOjbeFA1ODad53ZxbQ/Kd88oJZOvyik2YW5avB01vO6Z0p3jEvPEuoubqobbP/1U1NI0u9RspMqKnanOq8oaNiokkKhRmNE9Yy+I0l3j0v3vdagpMc0hdECiX32Ohuq32v5zIr234JM+pnp76R107+TRgG1nr2m+O/OsmL7Lrb9dBmAqbE6wxc7zqweyVsnPf6L6LomTbmz6cl2rZHqBNXh+r0aVkek7Yfqxpnui+n19EW32g+9B32vnv+CXqDZ1H0zBwCohd0GvdJ1RQAAAHMFQQlAw2lkStclaURI1ykBAADMdQQlAAAAAHAISgAAAADgEJQAAAAAwCEoAQAAAIBDUAIAAAAAh6AEAAAAAA5BCQAAAAAcghIAAAAAOAQlAAAAAHAISgAAAADgEJQAAAAAwCEoAQAAAIBDUAIAAAAAh6AEAAAAAA5BCQAAAAAcghIAAAAAOAQlAAAAAHAISgAAAADg1ByU9h7oplAoFAqFQqFQKJSmLNViRAkAAAAAHIISAAAAADgEJQAAAABwCEoAAAAA4BCUAAAAAMAhKAEAAACAQ1ACAAAAAIegBAAAAAAOQQkAAAAAHIISAAAAADgEJQAAAABwCEoAAAAA4BCUAAAAAMAhKAEAAACAQ1ACAAAAAIegBAAAAAAOQQkAAAAAHIISAAAAADjTFpQu2tQfXnRdS/jCvd3hcHmZ92zfWHjH8vbw6qWtYX3raHkpAFR2zsN9sX456bdd5SUAAACNNS1BqXXoUDh2ZUc45vrWcPu+4fLSo13+9EB48aKWcMLqrjB8qChOAajk6p2D4Q9WtocLHusrL5n/ioKS6pHT7+sJL83qleNWdYbOkUPlR+pzzc6hcMyS1vDGG9rCvQdGykvro+drO9qetgsAAJrLtASlRbuGYkflI3d0hr7R/ACk5Xpc62l9YCFQx14d/LxS7+iIbVPhYaEgKAGYTlu6Doa33dwWXra4JVy9Y7C8FLOJvwnmoikHJXVUNEKkkSKNGBXRSJNGnDTypBEoYCEgKE0Ppt4BmG537h+JlwLokoDtPWPlpUfoBO95j/TFdVT/vPWmtnDtM0MTLi94oG00vP/WjtgHUgf/lLXd4fnB+vs4T2ZhQSdYKs28OXNj76QzeLxH2o/sp8q7sve8fE/1z58OB7O389Osn6j3p8/ztctawyWb++NyM9nfBJhpUw5KutZI/1Prf3wd4Hl0DOjaJR0YOsCBhWb18yPhlUtaw5tvbAu7+iZW/ppKp2PjxKxhVCOixkO/q6FYWx7VsOdreV5Jt6vj7Za9w/GkhDWKaiDVoKd2Z+ufvKY7vCJrcP32PnBbx/jojJ730Ts6YyfAGtgbn53YWbDwpveifVaHwl63nsZu5XPD4b2/6Yivqe1qxEg/LSjpveo92/6qpPssNtKdVzdd9tRAfI6duLH9t6LPWp+51zZ8KHx1fc94x0mfnUa0tNxYqEuLPhdPnYMrtw6Gt99c+qxUtD/629lna9s6K6s31WHT6NRUPlcAE121bTDWM6dmAScNJqPZIa1j2x/Lad2g/s9ryvV1Wj6f1atFIWcyut670swbu9a70gweb2tPaaTG72elflsjfDd7b6q/0n3Qe/359on1Y9HfBJgNUw5K3MQBmFw1QeklWYPhGxHryNcSlKyR8evo+FvzQqmBV6D48O0dR61jxUKHnd3zj2v76dQICxo6O6ggla77iTs7Q396ynASRfuvUktQ2jcwFt6Z7Ys+03S0Ww3vJ+/qjM9R/SXVBKVKn1k6uldNUNKncW4WfPzfW0XvXZ+B2LYsKKaFaz2BxlJ9qZNJe/rHYiixE74XP1GqN3T8feX+nvCLrKOvKu7urM5Qfal6R/VPrex6b6v386guU1tRaQaPZ+3Hl7J9HRo7HOufv3mgN7eeaySd3NEJwcc6DsbP6zuPluq309Z1l9cA5p4pBSU7qLmJA1BZNUFJRSMF27LGZFUWULR+XkNmnfq0c27smNTzdF2MGqOukcPh6xtKZ0atQbL90ciPGi0dlRrNUofcgo2OVR2zWvb9x/tjA6uif2uZRpksANk+6bkfygKLpp5csbW0Pb2GTpZUY//AofB7t5SClhpU/a5X+LsHe+MyC0op+/x8UBKNYOuxtO7Z3HkwvP6GttyzqRbA8j53XXP0O1knSPXdTeUpK/q8L83C4Q/KHaeU9kX7pNf3QclG4tPPVu/1+LtLn6O9lzR06fPQyJV9rnn/LwFoHDseNSKdx+qPd69oDwcKgk4lNgpuJ3A8u9ZbJ56rrVPFpvP9frZf61pGY12merlSIPPyTgCp5NW71bK6+4ysfQLmqikFJW7iAFSnmqCkhss67pU67JWCkr2ONWK+WKNm62n0R6+pvPPjrPHXcWrr2D7kbUclfS+2TwoRK/bWP+9dz3354tajRp+tka41KOVNDbZpd3knbip97jZCFd9n9rim5WxsG42fXR7ti/ZJ6/ugpDPSWv6+LBh3JNP27P1rOo+2be9bAdo6NJX+XwLQGDr+dBxqavSGgpkxdhJDdUNBtVDITkxVmg5n13rXcwmDpkvbtG4VhaYdvdXXH9MdlHRy6LP3dMUR9CW76Rti7qo7KNlB7ae1eNzEAaguKKUNTqUOe6WgZNsqKvYaKnnTyHQ8f/vR0nZtn/06VvKCUi3z5vPY/vvPqd6g5Osp/a5pd0Unbip97nJXtkxnc/V6VjTKpAu8Pe1LUVAqej/2mdvr561n6+T9vwRg+qlTr5s0qB7RlNm8Gs6mKetaIN29rVZ2UucbD+SHLC3T1L83ZEFqU0dt29dz/+Xx/nhNpYKYXeuoa4D03maaXtGmHutznY19AKpVd1Cyg7rSELAd2Groi4aSgYWgUud2OoOSjUhMNjVDc+41mqSG027moAZUx6k1WjZFzY/u5LF9ygsytVi6+8gNGNKbFXzrofqm3omupVKDrLOX6mDoPRWduJksKBl9thoV0rp67bdkP/3Z2UpB6fzy3Hy/z/b30z7q8ycoAbNL9eGX7++J1wVpJCevU68b2LwpOx41K0AjwbWyvlKlutb6XJWuBy9iJ6w1LVr1nm7kozpQda3q3GpYXeRLUb1bRPuudkYjSZpOrKnhwFxWd1Cyuf+VhoBtXmyloWRgIWhEUPpM9tOP3qizrk67gsGfZw2qrnvJY9PPtE7RSG/a0dd3FFU6hqcrKFk4UwOua6Z056n/+2TpTGjR9icLSgo1Co76XM4uB668kCmVPnfN61cn5b6W0nQ7ffIapdL2NKrkv3cp/fx8ULJApM6CboChzpfC6wfL69t1YgQlYPaobjz+rs5Y//xoy0BuQNG1oDoeFUIUQOphfaW86cBGfS2FnVpuCW6sjlTgU92lon/n1U1FpiMoWehU/f73D+aHTmCuqSsoWcdjsjPNOmugA6meMyDAfGABIq9Y57fWoGTHVVrSTrOmziko+XVUrFG06wv945qSoVtRWwDTaEzRHejSsGHvMy/I1EKdBE0H8a/1qmy/tL/+MysqvvFXJ0PP13Z8vWWfdd52VOw1LaDkrfPxLEjqM0vDUV6xv7E6CJpykreO9k/TeISgBMwe3ebbH58qdhzbDV7y1qk2gIjqdNVPRddxW5+r3qnNNqLk97HS9VaNYCPpvlCXYS6rKyhVcxc7nYnR0G69Z0CA+cACRF7xnf5qg5IaSoUZdahtW2lDoyNSt5fW1DofmKzx1nQHNbrpY2lJQ5D/TqO8dex9ph36eqnu0JQMvZ6KAsX1u0tnbf1nVlR8J8WmregxX29VG5R0FlZnj1Wv2ef6umVt8XuV7HuUqg1Kor+jvhtJ29Bjeq+6k2D6fVcEJWD2WL3mix3HlU6eVBuUrK9UNB1Y1Oeq9ZbgKWsT/He2qW6fSVaf+UJdhrms5qCkxr2au9jZGeupXtwNYPrZ1FndNlwBQDTKoe/Z0PLpCDwAgMqsr6RRpTzW55rsulMAjVFzUKrmLnY6W1vNHfEAzLx01EMjU/ZdSDt7j1wjwxcAAkBjWV+p0nXc1ueqdD04gMap+2YOAJqXjRzlFc1b9zcmAAAAWGgISsACpOkcF27qG79DngKSbnRw8prusC25LTcAAMBCRVACAAAAAIegBAAAAAAOQQkAAAAAHIISAAAAADgEJQAAAABwCEoAAAAA4BCUAAAAAMAhKAEAAACAQ1ACAAAAAIegBAAAAAAOQQkAAAAAHIISAAAAADgEJQAAAABwCEoAAAAA4BCUAAAAAMAhKAEAAACAU3NQ2nugm0KhUCgUCoVCoVCaslSLESUAAAAAcAhKAAAAAOAQlAAAAADAISgBAAAAgENQAgAAAACHoAQAAAAADkEJAAAAAByCEgAAAAA4BCUAAAAAcAhKAAAAAOAQlAAAAADAISgBAAAAgENQAgAAAACHoAQAAAAADkEJAAAAAByCEgAAAAA4BCUAAAAAcAhKAAAAAOBMW1C6aFN/eNF1LeEL93aHw+VlAAAAANCMpiUotQ4dCseu7AjHXN8abt83XF4KoBbDhw6H0+/rCS9d1BKOW9UZOkcOlR+pzzU7h8IxS1rDG29oC/ceGCkvrY+er+1oe9ouAADAfDctQWnRrqHYufvIHZ2hb5TxJECu3jkYR1nT8qosaHwsC0EPtI2W1zqCoAQAM2NL18HwtpvbwssWt4SrdwyWl6LZ8XfFdJtyUFLn7oTVXeHFWefu8qcHyksB5AUlK6rEr9pGJQ4As+XO/SPh1UtbwzuWt4ftPWPlpUfoxO95j/TFdVRvv/WmtnDtM0MTLi/QSa/339oR+0Cq109Z2x2eH6z/JNeTWUdfJ6XUr1L/qhpDY4fDtx89sp+vuL41/OV9PaFrZGZPXG/LPsNP3d0VPwd9Hh9f1RnfT7UqtZl6rGidVy5pDaufP3IycLK/K1CLKQel9a2j8X9IHdi1HBDAfGcV+ptvbAu7+sbCwazNWntgJPz+iva4/F1ZJb6nfyw+pnXSiv8Dt3VMGFGyUdu84+yypwbiczT9VdNgT/pt14Rt+UbEtA0fCl9d3zOhcdWIlpabcx7um7AtFWuwUnpvV24dDG+/uS02kCran1v2Do93KmxbZ23sjZ0PjU5pPXUyaMwAzAadsFLH/tQs4KTBZDSrBlUf+vovrU/V/3nNslL9mZbPr5m4rVroem/V9arzq5VXT6ucmdW1M0Xt2O/eUmrb0uLbskqmKyhJ0d8VqNWUgxI3cQDy+aBkdB2frudTY7h091BVQWnfwFh4ZxasFCzSkVs1AJ+8qzM+R8eiVBOUtO0P394xYT0ranRNNUFJx/25WfDRvvl105Ez25bet1+vlrOnADAT1rwwEk7OQo9OaGl0Sf0c1VcXP1Gqa1VnfeX+nvCL7YPxZNHdWT2rE0+qq1Vn18qu97aTXtVSnf/aLLCtaylN6dbJtNff0BaXz6QLN/WFCx7riyNc2gedDFSQ3Jgz1bwaz2Zto0aFNJVua0/pBKG1q74dAhplSkGJmzgAxaxC90HJQo8e02hQyp6TdxZOZwf1WBoqNneWGsS8kSYLYHlBSdcc/U7WoOvYvWlP6djV8Xzp5v7wg3InIKV90T7lNVA2qqwA9P3H+2MjuX/gUDj+7lJgs/eShq4Ts/egkasrtg7E5/nPCADmGqvDfL1trM5994r2cKCGoGNs5oCd9KqW2gadlDr7od7Yvpz5QG94SbadWi6H8CfYrNQbtqzNUPukdqoediI+HRmzNtK3Q0CjTCkocRMHoJhV6D4EpKEjHb0Re05eUMqb5mrT7vJGZCoFpTSsaQqcppjorJ/OiuapFJR0dlXL33drR+hIpu2t2DscXr64dfyMonUyNNXOzpZqv7R/BCUAc5nqLNVdGrnZkNXFeezEj+rTWntEqr9Vj9dzGYOuRfrsPaVrxVXHKiR9NwsZtezDdAelVftLdbuuU6qnf6hRPI1I+c/D2kgVvd+3ZG3HT7NAWNR2AVNVd1Cyg9pPBQJQUhSUNJ1AFwXrMR867Dl5Qckfc/pd0+7UMOfNZ68UlOSubJmmNVijo6JRJl2s7FUKShaAfINqIcheP289ghKAuU6j5LpJg+peTTPO65PbDQQ0TUx3XquVnQj7xgO1hyxd4/mHv+mI15m+KatLtZ8KdJoKOBvsznN6P/pc6qHZCXof/vNIg5IV+qFopLqDkh3U6mip4wdgoqKgpKluGmnJCzCVgpLodqdqFHT2cFNHadpd0Xz2yYKS0fGrUSGtq9fWGbodvROP6UpB6fxHSwHI77ONKNnUC4ISgGajkPTl+3viKI2mgOl3TzfpUUDRCbB6rsfRFnX9k/pU6lvVwk6g2fWg2pamUOsE2kfv6Az9VQ61TNeIkkKbph7qvega3Hpo6vZ7VraHN2Rth9q5Ivpb6JootYm6gQbQCHUHJbteIp07CuAIH5RUqS/eNRQbVC3Pm5IwWVCyi1sVZjQfXev66XumUlDSNUpqmO9rKU23017ojJy2p1El/71LlYKSBSI11JdkDbTep6ZNfLC8/ifuLDXWBCUAzUQnoI6/qzOO1Pxoy0DuSI++V0512Iey+m53nXWYppZpilneFOrJWN2sESQLafqp34vakTzTEZQsMKqNqhQYdWJO18fqjnR5wfPHTw3E8DPZFEZNOdSIk9Y9Y0NPeSkwveoKStZZq+fsB7BQWOjJK+n0jErrqfhgopMTOluoL6/1x6CFo7ztqFijZwElbx0LcGk4yivWCKuh07SUvHW0fzb1gqAEoJlolMLXaSpW99lNcfLW8fV2JfXcEtzYiFLePtRzrVS90inlvqQn89J2Ja/eVzjVLImi/qW1I2nRumteKJ41AUxFXUFJZ56V4Os5+wEsFD4A6ZhRQ6I57ul3FdUalGzaqx7zx2C1QUmjSDoTqgZJ+6XHXresLX6vku1btUFJFKz03Ujahh7T6JKmfejLGA1BCUAzUV2V1nlWrO6rdMKp2qBkwaBoCnU1NJKl25hr5Euvrfbha1ldPpNfOFup7UmDklQaUbL+ZdFXzqRBSe9X71tfdAs0Ss1BSR0i3eWu3rMfAAAAqP+W4ABmRs1Byb4scypnPwAAABYymzZXzy3BAcyMum/mAAAAAADzFUEJAAAAAByCEgAAAAA4BCUAAAAAcAhKAAAAAOAQlAAAAADAISgBAAAAgENQAgAAAACHoAQAAAAADkEJAAAAAByCEgAAAAA4BCUAAAAAcAhKAAAAAOAQlAAAAADAISgBAAAAgENQAgAAAACHoAQAAAAADkEJAAAAAJyag9LeA90UCoVCoVAoFAqF0pSlWowoAQAAAIBDUAIAAAAAh6AEAAAAAA5BCQAAAAAcghIAAAAAOAQlAAAAAHAISgAAAADgEJQAAAAAwCEoAQAAAIBDUAIAAAAAh6AEAAAAAA5BCQAAAAAcghIAAAAAOAQlAAAAAHAISgAAAADgEJQAAAAAwCEoAQAAAIBDUAIAAAAAZ0pBqWP4UHjfrR2x6N8AGmf18yPhlUtaw4uuaxkvJ/22q/zo7NJ+pPul/dT+AgAANKu6gtKaF0bCF9d1h919Y+EDt3XEon9rmR4DMP1qCUp7+8fCX2TH47ErO8Ku7NgsMnzocDj9vp7w0kUt4bhVnaFzpL4THrUEJb2GXkuvqdfWPjTa1TsHwx+sbA8XPNZXXpLvmp1D4Zhs3994Q1u49wB1GQAAC1nNQelg1qf503tKnaJ3r2gfH1HSv7VMj2kdYKFTQHnzjW3xuDgtCy2iUPDJuzrjMj1WKcRUcs7DfXEbRUHJQtVkrzFdQcnYe55rQcmCnD63SghKwMKwpetgeNvNbeFli1vC1TsGy0tRr9ahQ+FDt3WEF2f1+rcfrVzPAs2krhElBaGfPj0QXrvsyNlt/VvLCElAyebOg+H1WYdbx4dGXRUQns2CxFtvKi2bC0FpulUTlGZDtUEJwMJx5/6R8OqlreEdy9vD9p6j60mrZ1UUAN6Vrbd8z3D50dqcsaEn1v1qA2qhdkPth+2Hgt2n7u6Ks3hm0tDY4XDRpv54Ekn7oc9NgUjLjYVPPcbsIswXBCWgQSysvCorr8mOj41to2HF3uH4bx0vanDUOGtamI4hC1MyWeAoCkoWCIqKBQXbfvpY+vpiDbT24ZfbB8PxWeOszoIaao0EdY0cfbBX2m/7PNLXLAp6faOHw4Wb+sJbsm3Za56ytjs8P1jaP995UHnF9a3h5DWlKcGS93ppSUOk/9yKPve24UPhq+t7YkdA69lrbit3sip9Zl/POkpppwLA7Ltq22A8Pk/N6hc/up0GJSuvW9YWHmofLa9Rmbb2Dw/1hnMf6QtnbewN77+1I/xqx2D4+KrO3GCWJ6+uU/nEnZ2hfwY7XApFqsvSfdDvP35qoLxGiYXPD98+sT0BmhVT74AGsY7657JjQiNLl2UNihrej9zRGaffWWd8rgclNYYvcQ2kSl7HYjqCkl5XASNdz4rtv+1b3jrqhCho5b1eWmoNSja1JF3Pis6i6mxqpc9Myy5/emKnAkBz0Ikh1S06jhftGiovrUx9IU3nfc/K9vE6QUFLwUknXeqxrmU0nmhTnbOnv7qwNVV24y7Vi7fsHY7vSz/1+0ez9mwmAxsw07iZA9AgGj16+eLWeCZRjYlGHvRTnX11zK0zPp1ByVhISMNAkbzXlzSMaFu/2D4YRrOH/+3JgdjoK/xpemFqsv02lfZfYULb11neSzb3x1EYFQXNHzzRX17raNaBsNG7lAUhC1pFKu2/pp1oG3r8nqyeU99AP/W7bTv9zLT/l2b7r07EZ8snl4r+XgDmNoUShYVaRpSmOygpjlhAqWVEydoD1UFpmayeNvsGxsI7l7fHkaK7y+tv7TkY31c90wmBZlJXUDLcHhwoZgFEHWgVTbVTR14BSjd30E0D7soanWYISgpHRlNG9F50M4aluyeeWZ1qUFKzf+LqUqhQuKjUDdB0N4VPTW3U+lbyXnuqQUkdEoVcbeNbD/WWl5bo2gMt1+P7Bo58Zmdn69n+T/b3AjA32bGropMfmqpXLR3/U516J2ldrPL2m9vCU90TT1JVYu2BPd/KZPW00cyBE8r1si/VtDFAM5tSUAJQzALIz7cPxkChYKGzcjo7Z42v1skLKnMtKGkdY/vml8tk+22K9j99Ta1TRCNGdqMMX/Jee6pBqeizEHsvelzPz1tvsr8XgLnJjl0rOtlloyq1qPdmDpLWP1Y0hVvTgWeKZg3pJhIKi7o2UzOI9FlU08YAzYygBDSIApIaNHWYd/SOxRsT2G3CrfHVYyr6txpCCyqPdRyMjdBcDErrW0fjFAxNK9ToWGqqQSkdudEZzKJbh5//aOn5mqdv02AqvfZUg1LP6OHx65P8NmxESdedvZB1XAhKwPyjuumbD/bGKXQ61mfiaw3y7Mzakg+W6xhNR66GtQd6Tlomq6cr0ckqTXNWvaj6EZivCEpAg1jnOO0wG3tMYeraZ4Zi46uzjU92HQybspCk29BWasgm63hbw6iy8rnKt7OtJihdubX0HjRP/4/K3wP1e7e0h/0DE89oTjUoiV0LpDOXFz9RusZH1yj9x9MD4d+3lDoG9nxN+9Wd8LQff35vd/wc817bgtJnsp+60UORSvtvgUh/p7UHStcoKSgqNOp1dT1SUbic7O8FYG7T8f6zbYPxBNFsBiXdVEJ1neqT2QhKetdqo/RdeNrGmRsnTkUG5huCEtAg1jmuFJT0U+HIvpvCil34mzZk9py84hs8Te/Qd4P49bQNsXBUVPR42un3JZ2rb+Eibz0VCwfV7r/C2O+X76Lpi+3/kt1DcR/Sx/I+M2PhKy3aZ+17tftv3xGSt47OqmoaDEEJmD/sBEtaVO/M5BfUFtVPRd/91Ch5bcYf/qbjqJNlwHxDUAIaRBf9qzHJC0rW6FjHX6NKmmqnZRqx+HX2+x+vPnJnPKk2aJg1L4yEY1eWblVt69nr5TV6adHjaadfZ1H1U50EXZCcztGf7qAkRd9XZN+RpLO7Cj+6IYbeny5u1qiXbgSR91loFEkXU9v2VGoNSqIbSGhKoPZHj2l72k+7gxVBCZg/0qCkuu+9WTDQXedmcizJ10+6eY3qQvvutplibYbqW53YS+s9YD4jKAHIVdTpBwAAWAgISgByEZQAAMBCRlACkIugBAAAFjKCEoBcBCUAALCQEZQAAAAAwCEoAQAAAIBDUAIAAAAAh6AEAAAAAA5BCQAAAAAcghIAAAAAOAQlAAAAAHAISgAAAADgEJQAAAAAwCEoAQAAAIBDUAIAAAAAh6AEAAAAAA5BCQAAAAAcghIAAAAAOAQlAAAAAHAISgAAAADg1ByU9h7oplAoFAqFQqFQKJSmLNViRAkAAAAAHIISAAAAADgEJQAAAABwCEoAAAAA4BCUAAAAAMAhKAEAAACAQ1ACAAAAAIegBAAAAAAOQQkAAAAAHIISAAAAADgEJQAAAABwCEoAAAAA4BCUAAAAAMAhKAEAAACAQ1ACAAAAAIegBAAAAAAOQQkAAAAAHIISAAAAADgEJaBJnPNwX3jRdS3hpN92lZcAAACgUQhKQJOoJSjt7R8Lf7GuOxy7siPs6hsrL50brt45GP5gZXu44LG+8pJ89x4YCW+8oS0cs6Q1XLNzqLwUAABgZhCUgAY6eDiEK7cOhnctbw8vXtQSy9tvbovL9FgtaglKq58fCa/MAsabb2ybc0FJ+6/3ofdTCUEJQKNs6ToY3pbVxS9b3BKu3jFYXop6tQ4dCh+6rSO2cd9+tHLdDjQTghLQIMpB5z7SFxsOBYO0KMQozNRioQUlAGikO/ePhFcvbQ3vWN4etvccXU9q9Dutt1Xqqbunalu2b5+6uyuGOrUnH1/VGZ7Mgt5M8p+FTmJdsXUgtnPGwqc+0zUvzOxnBDQKQQlokH0DY+GdWQOsRuWsjb2hvzyE9GwWXP56Q08cMRFrgD5wW0foHDkUlyncKOSkjbIFpRNXd4WLNvXHxkiNpqbXPdI+GtexEFJULJzY9lV29I6Ff3m8P7zi+tbYEH8927ehsdK++sbRRsSu2jY4oYGUtuFD4avre8LrlrXFdTUSpPfdN3p4PLil20pLGujsfaZF++HZ6+lz0Dra/5PXdMdOhbFtaT/Oy0Kr9knv4f23duR2jAAsLKrLVO+durY7DB+aWKv5+k9lpoOS6sXfvaXUjqQlbS9mQt5noc/t5j3D5TVKLHx++PaZ3T+gUQhKQIMoEL31plJo+Nw9XaFrxEeLklqD0kuyjr4fpbIzovUEpX97ciA2eLaOtn3p5v64Xl7jqKL1l+w+Mh1O29N1R3nrahvTHZRsmodfT0VnNHVmU2xbL3Wfl8oJWeD0HSMAMFb/+fpnpl24qS9e06kTWBpJ0lTu1yxrDRvbSifIZpr240v398TPRvsGzGcEJaBB1AU//b5SY6KiEY/PZoFJoSHtnltjXG1QUpDRdhW8HswayjfcUApjlz01ENcTCyZpAEnZ9l+fPfe9v+kIZz9UGvHS/mlbn1/TXV5zorSBPG3dkXXO3Ngbl+lM4rXPDMXrr7R///hwb1iaBCqpduqdPgt9JlrXd1Q0oqbleg/3vDASX08/9Xu67TR0aSROo1CaLqLgVPTZAIDMlaCUsnpRdffmzuqm3xWdqErbl1qobv+TrB7PG1EC5pu6glLagUlL2tEDEOK0M5vylR4rf5iFE5v6VWtQ+sSdneNT4/RfBQAtT4NLtUFJz3vPyvawfyD/uFUASW9GofWt2LVSHVn4eN+tpfpgsvAjUw1KCnQfvaMzLv9WFvBSZ2wohTg9rvXsM9NUO41CyWSfDQCI1c0qqv/ektUZP316oOYb8UynVftL9ZeuU1L7Uo3pCkrp56GZDapfZ/GjAGYEQQmYAQo21+8eivO2LXBYQ1drULKAYix4pMtrCUoancmjBlCjRz4gWbHXS7eVBpoiUw1KRcvFPiP7LPM+M4ISgGqkwcCK6sPLs7BUrbyQMlndVyS9WYKuBZpp/vPQLImfb587o21AIzD1DphBCh+a5qZGxjrq1vikQemxjoPhtctaJw1KClofKY+uaDTF1BKUfNgwdo2VOgYaubFRLL8f6U0rNAVvMlMNSj3Ze7brk/w2bETpk3d1xuuP8j4zghKAWqn+03VCqg+Lpibnma6gpBkI717RHkOSn848mbx9UEnbl1ros/jJU6VrW7VPB8qj9cB8RFACGkR3tfv03V1hxd7h8TveafqXbuygRsoaGF3To8ZXoUQX6m7KQpKmuvmGzDr92qY2p8bqO4/2xcbKzxW3hlFl5XNHzyGvJijZOrqeR9NNRrO2UDdweFP5eRY+9M6+cG93XKZGXN95pH3TPHbtn5/DbkHpM9nPSlNHKo0cWSDSZ7Y2+5z1eehz1uvrs7SbURCUAEwH1WffeKA0wp6elJoJquNU7+qmPfXcwGG6g5JqbU0BVH1LUMJ8R1ACGqSocVJRsNFtaUXhSN9JkT6uxlhzwNOGzDr9eeWUtd3jIz6i0SA1qn49O5NZTVBSiNH0QL8Nu+teGj7UeOviYr+uit++3YghLRZa0nCUV2zUzaag5K2j0Sa7HomgBKBeeXWuwsGaGfyOoPTuqb5YfT4T8j4LtQN8uSzmO4IS0CAa5dDoiu4qp2CkhkVzuj+WhQ+djUvHUjSqpKl2WkeN4q+z3/94ddeEoHTL3uEYAl5VDl9qpHRxsYJHGpKMGnN9x5LWs4atlqAkCnG6EYK2Yd9T9Mvtg3G/0vAh+v4iPa71tF11KL62vnR3vpQCmL7XSI/bftUalESvp1t8p6+n71XSne0MQQlAvdJwYPVf+j1tMyGtq32ZraCk9kCzHnSjn9m8sQUwEwhKAAAAAOAQlAAAAADAISgBAAAAgENQAgAAAACHoAQAAAAADkEJAAAAAByCEgAAAAA4BCUAAAAAcAhKAAAAAOAQlAAAAADAISgBAAAAgENQAgAAAACHoAQAAAAADkEJAAAAAByCEgAAAAA4BCUAAAAAcAhKAAAAAOAQlAAAAADAISgBAAAAgENQAgAAAACn5qC090A3hUKhUCgUCoVCoTRlqRYjSgAAAADgEJQAAAAAwCEoAQAAAIBDUAIAAAAAh6AEAAAAAA5BCQAAAAAcghIAAAAAOAQlAAAAAHAISgAAAADgEJQAAAAAwCEoAQAAAIBDUAIAAAAAh6AEAAAAAA5BCQAAAAAcghIAAAAAOAQlAAAAAHAISgAAAADgEJQAAAAAwCEoAXPQrr6x8OYb28Irl7SG1c+PlJceTY9pHa2r5wAAAGB6EJSAOWg6gtI1O4fCMdljb7yhLdx7IH8bq/aPhI/c0RlOXdtdXpJPz9d2tD1tFwAAYL4jKAENNnzocPjkXZ3hRde1xHLausqhRGYqKJ3zcF/cp5N+21Veko+gBGA+2dJ1MLzt5rbwssUt4eodg+WlqFfr0KHwods6wosXtYRvP9pXXgo0P4IS0GCbOw+G12ch47XLWsMx17eGd69oDweyRqWS6QhK1ag2KAHAfHPn/pHw6qWt4R3L28P2nqPrz77Rw+G8R/riOqon33pTW7j2maFwuPz4TNmW7dun7u6KoU5B5OOrOsOTWdCbDUNjh8Px2b7o8/DtjoVPfV5rXihut4BmMqWgZJ25ejtpwEKgs5Vq3P56Q0/4wG0d4eWLW8OKvcPlR0u6Rg6Hr63vCa9b1hYboJdk6+s5Pijtzo6zk9d0h1dly9P10mNQoUePWfHbsOM2XSct6foWpNJy9c6jz74ezHoOV24dDG/PGkntj8qxKzvCLdn7tE6Fbeusjb2x86HRKa33/ls7cjspANBoV20bjAFE0481+m9GD4Vw+n09R9V/k528mm6qr3/3lvaj9kNtSedI5RNujXDF1oHw0qze1j7k9f0sfH749tnZP2C6EZSABlKz+9l7usbD0RlZWFIDo9BgbMpC2ghaSRtlO1uXt95sBiW9x3Oz4KPQ49dVB0QdEbFtWSOblhNWd03opADAbNOoiE5M7ekfi6NLX7i3O9ZXFz/RX16jeqqX6+0rXbipL1zwWF8czdFI0ruWt4fXLGsNG9tGy2vMDJ3Q0uibTm59bFUnfT8sCAQloIGezY4LNSxvyY6RHb1jYenuoRgU0rOBl27ujyFDZ+E0rUOjM091H4zXBKWh5Uv3l0KWpn+sPTASA8pt+4bjyEzeMWjHZ6UzoBZeJpt6p33VPmtdH5TWt47Gfdf7+v7j/bEx3z9waHx6hr3XNHSdmAWjtuFD42cnqUMAzHVWh1321EB5SfWmEpRSVhdrOremdVdD9b/aAat/rVRqGzy1Nxph03N0E6Dpej/AXFdzUFInyR9svuRNzQEWIgtGupmDRkx0Rk4BSMFCASO90YPOVtqYig85uqZJ1zZpvYs2HTmbaQ1gXoPlt5FnOoKSzq5q+ftu7QgdWfgxGkHTSJqd+bTX0tlIjaJJpf0HgLlCdZbqLl1ruiGru2s1XcFCIUV1pq5T0ihXNayeVf2blkptg6f6XNfYnv1Qb2ynCEpYKAhKQAPZVDubqtF/8HD46B2lYKRlaQBRkDA+5Njv/viqFDT8NvJMR1Aq2obtm71+3nqV9h8A5gKNkp+ytjuO/GuacXXx5EjdmFdspL0W6c0SdC3QTLGQ+J6V7XG2gBCUsFAw9Q5okHQUKK8oMLVk61hw+tZDveVnluaCp1Pv9g2MhXcuL23r59uPBJW7ssdme+rd+Y+WtuEbfhtRsikiBCUAzUYh6cv398Qb55y5sTf+Xq3pDEpqE9SeKCRppkItrJ71+1CpbUgVPd+K3icwXxGUgAa5XdcPXV/cuFiAsFEnTV17fvBQvBWs3dzBGrJ0it5nsqChKRfrWkbj9U9aNtWgZK9dpFJQskCkGzdcsrl0jZIufv5gef1P3NkZR9IISgCaiUZSjs/q3Vdk9fiPtgxUPZKUZyojMLom9U3Zc1Xf13MDh6KgU6ltSBU93wpBCfMZQQloEAsG/gtm09EhXRS85oXS7VTThkehQw1T2pDpNuNanq6ngKIwZsegHZPpOmnxI0eLdpWuoUrXsddMw1FesTOiNi0lb510ighBCUAz+fya/Hqt1tEgqTco6YZAuoFP3n7MZkCZSvADmsmUghKAfBYyNKfdf+u7zkrqluFq6Oy22LrbnabaaZl9qeGfZA1RGpT0vO893h/Dh7ar+eLL9wzH16k3KOkOexoFstdWqTUoiX0xo30PlAKdphQ+kJz9JCgBaCaqq9I6z8pMBqVKdTpBCWg8ghIAAAAAOAQlAAAAAHAISgAAAADgEJQAAAAAwCEoAQAAAIBDUAIAAAAAh6AEAAAAAA5BCQAAAAAcghIAAAAAOAQlAAAAAHAISgAAAADgEJQAAAAAwCEoAQAAAIBDUAIAAAAAh6AEAAAAAA5BCQAAAAAcghIAAAAAOAQlAAAAAHAISgAAAADgEJQAAAAAwCEoAQAAAIBDUAIAAACACUL4/85+ntn+AQ/GAAAAAElFTkSuQmCC)"
      ],
      "metadata": {
        "id": "ZlDaC76fprpr"
      }
    },
    {
      "cell_type": "code",
      "source": [
        "2 + 3 * 6"
      ],
      "metadata": {
        "colab": {
          "base_uri": "https://localhost:8080/"
        },
        "id": "9UKF5n2xqJXs",
        "outputId": "0c25a72d-be70-4e18-d200-f06924fd265e"
      },
      "execution_count": null,
      "outputs": [
        {
          "output_type": "execute_result",
          "data": {
            "text/plain": [
              "20"
            ]
          },
          "metadata": {},
          "execution_count": 22
        }
      ]
    },
    {
      "cell_type": "code",
      "source": [
        "23 // 7"
      ],
      "metadata": {
        "colab": {
          "base_uri": "https://localhost:8080/"
        },
        "id": "ncz5gX1zqN2R",
        "outputId": "9f094c0a-a4d9-4456-ea8e-0782ac248a9c"
      },
      "execution_count": null,
      "outputs": [
        {
          "output_type": "execute_result",
          "data": {
            "text/plain": [
              "3"
            ]
          },
          "metadata": {},
          "execution_count": 23
        }
      ]
    },
    {
      "cell_type": "code",
      "source": [
        "23 % 7"
      ],
      "metadata": {
        "colab": {
          "base_uri": "https://localhost:8080/"
        },
        "id": "9DnFKUwlqRv6",
        "outputId": "29575300-657e-4c5e-f787-7efb895c02ca"
      },
      "execution_count": null,
      "outputs": [
        {
          "output_type": "execute_result",
          "data": {
            "text/plain": [
              "2"
            ]
          },
          "metadata": {},
          "execution_count": 24
        }
      ]
    },
    {
      "cell_type": "markdown",
      "source": [
        "### Augmented Assignment Operators"
      ],
      "metadata": {
        "id": "FqaQgn7OqYge"
      }
    },
    {
      "cell_type": "markdown",
      "source": [
        "![math_augmented_operations.PNG](data:image/png;base64,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)"
      ],
      "metadata": {
        "id": "fMhB05m1qaaA"
      }
    },
    {
      "cell_type": "code",
      "source": [
        "a = 20\n",
        "a += 2\n",
        "a"
      ],
      "metadata": {
        "colab": {
          "base_uri": "https://localhost:8080/"
        },
        "id": "4FxvEJdkqu58",
        "outputId": "710cb812-f9c2-47af-ccf2-56d24c45fed5"
      },
      "execution_count": null,
      "outputs": [
        {
          "output_type": "execute_result",
          "data": {
            "text/plain": [
              "22"
            ]
          },
          "metadata": {},
          "execution_count": 26
        }
      ]
    },
    {
      "cell_type": "markdown",
      "source": [
        "# Section 1.4 : Conditions and If statements"
      ],
      "metadata": {
        "id": "oBXxwZl12mGr"
      }
    },
    {
      "cell_type": "markdown",
      "source": [
        "Python supports the usual logical conditions from mathematics:\n",
        "\n",
        "- Equals: a == b\n",
        "- Not Equals: a != b\n",
        "- Less than: a < b\n",
        "- Less than or equal to: a <= b\n",
        "- Greater than: a > b\n",
        "- Greater than or equal to: a >= b\n",
        "\n",
        "These conditions can be used in several ways, most commonly in \"if statements\" and loops."
      ],
      "metadata": {
        "id": "b9z4b5qk2rcw"
      }
    },
    {
      "cell_type": "markdown",
      "source": [
        "###**1- \"if\" statement**\n",
        "\n",
        "An \"if statement\" is written by using the ***if*** keyword."
      ],
      "metadata": {
        "id": "F6iWwAtW33Vv"
      }
    },
    {
      "cell_type": "code",
      "source": [
        "a = 10\n",
        "b = 20\n",
        "if b > a:\n",
        "  print(\"b is greater than a\")"
      ],
      "metadata": {
        "colab": {
          "base_uri": "https://localhost:8080/"
        },
        "id": "WUZRHGGG3L1c",
        "outputId": "bab7a699-7ac7-4ef9-eb13-cf9df03bf493"
      },
      "execution_count": null,
      "outputs": [
        {
          "output_type": "stream",
          "name": "stdout",
          "text": [
            "b is greater than a\n"
          ]
        }
      ]
    },
    {
      "cell_type": "markdown",
      "source": [
        "####**Indentation**\n",
        "\n",
        "Python relies on indentation (whitespace at the beginning of a line) to define scope in the code."
      ],
      "metadata": {
        "id": "ijbxXN8p3bbp"
      }
    },
    {
      "cell_type": "markdown",
      "source": [
        "###**2- \"elif\" statemet:**\n",
        "\n",
        "The ***elif*** keyword is Python's way of saying \"if the previous conditions were not true, then try this condition\"."
      ],
      "metadata": {
        "id": "MYEkAdk03wz4"
      }
    },
    {
      "cell_type": "code",
      "source": [
        "a = 15\n",
        "b = 15\n",
        "if b > a:\n",
        "  print(\"b is greater than a\")\n",
        "elif a == b:\n",
        "  print(\"a and b are equal\")"
      ],
      "metadata": {
        "colab": {
          "base_uri": "https://localhost:8080/"
        },
        "id": "lSuOyHzM4dXe",
        "outputId": "48920009-3903-4ed6-fd0b-88c22daf78ab"
      },
      "execution_count": null,
      "outputs": [
        {
          "output_type": "stream",
          "name": "stdout",
          "text": [
            "a and b are equal\n"
          ]
        }
      ]
    },
    {
      "cell_type": "markdown",
      "source": [
        "###**3- \"else\" statement:**\n",
        "\n",
        "The ***else*** keyword catches anything which isn't caught by the preceding conditions."
      ],
      "metadata": {
        "id": "l0Vao_cH4k1w"
      }
    },
    {
      "cell_type": "code",
      "source": [
        "a = 200\n",
        "b = 30\n",
        "if b > a:\n",
        "  print(\"b is greater than a\")\n",
        "elif a == b:\n",
        "  print(\"a and b are equal\")\n",
        "else:\n",
        "  print(\"a is greater than b\")"
      ],
      "metadata": {
        "colab": {
          "base_uri": "https://localhost:8080/"
        },
        "id": "hLS4B39r46cn",
        "outputId": "2badddaf-d5b7-49c9-d264-16c81c36308b"
      },
      "execution_count": null,
      "outputs": [
        {
          "output_type": "stream",
          "name": "stdout",
          "text": [
            "a is greater than b\n"
          ]
        }
      ]
    },
    {
      "cell_type": "markdown",
      "source": [
        "###**4- Nested If:**\n",
        "\n",
        "You can have if statements inside if statements, this is called nested if statements."
      ],
      "metadata": {
        "id": "7eyYE8nF6cnh"
      }
    },
    {
      "cell_type": "code",
      "source": [
        "x = 41\n",
        "\n",
        "if x > 10:\n",
        "  print(\"x is bove ten,\")\n",
        "  if x > 20:\n",
        "    print(\"and also above 20!\")\n",
        "  else:\n",
        "    print(\"but not above 20.\")"
      ],
      "metadata": {
        "colab": {
          "base_uri": "https://localhost:8080/"
        },
        "id": "sAhKxkR56klm",
        "outputId": "ea3ed442-ee69-4855-f464-5288fd9b369c"
      },
      "execution_count": null,
      "outputs": [
        {
          "output_type": "stream",
          "name": "stdout",
          "text": [
            "x is bove ten,\n",
            "and also above 20!\n"
          ]
        }
      ]
    },
    {
      "cell_type": "markdown",
      "source": [
        "## Logical Operators :"
      ],
      "metadata": {
        "id": "WT3AQbi950Uw"
      }
    },
    {
      "cell_type": "markdown",
      "source": [
        "###**1- And**\n",
        "\n",
        "The ***and*** keyword is a logical operator, and is used to combine conditional statements:"
      ],
      "metadata": {
        "id": "6mSLvALM5PJQ"
      }
    },
    {
      "cell_type": "code",
      "source": [
        "a = 200\n",
        "b = 33\n",
        "c = 500\n",
        "if a > b and c > a:\n",
        "  print(\"Both conditions are True\")"
      ],
      "metadata": {
        "colab": {
          "base_uri": "https://localhost:8080/"
        },
        "id": "cFOiDTin5Y4k",
        "outputId": "d68fac01-af79-4331-9083-b2d979faf862"
      },
      "execution_count": null,
      "outputs": [
        {
          "output_type": "stream",
          "name": "stdout",
          "text": [
            "Both conditions are True\n"
          ]
        }
      ]
    },
    {
      "cell_type": "markdown",
      "source": [
        "###**2- Or**\n",
        "\n",
        "The ***or*** keyword is a logical operator, and is used to combine conditional statements:"
      ],
      "metadata": {
        "id": "UO181VXi5g6k"
      }
    },
    {
      "cell_type": "code",
      "source": [
        "a = 200\n",
        "b = 33\n",
        "c = 500\n",
        "if a > b or a > c:\n",
        "  print(\"At least one of the conditions is True\")"
      ],
      "metadata": {
        "colab": {
          "base_uri": "https://localhost:8080/"
        },
        "id": "qFS_vTAP5pjL",
        "outputId": "48003b07-426b-4d02-b6b5-7598c83b2b22"
      },
      "execution_count": null,
      "outputs": [
        {
          "output_type": "stream",
          "name": "stdout",
          "text": [
            "At least one of the conditions is True\n"
          ]
        }
      ]
    },
    {
      "cell_type": "markdown",
      "source": [
        "###**3- Not**\n",
        "\n",
        "The ***not*** keyword is a logical operator, and is used to reverse the result of the conditional statement:"
      ],
      "metadata": {
        "id": "uKtGU24_5twt"
      }
    },
    {
      "cell_type": "code",
      "source": [
        "a = 33\n",
        "b = 200\n",
        "if not a > b:\n",
        "  print(\"a is NOT greater than b\")"
      ],
      "metadata": {
        "colab": {
          "base_uri": "https://localhost:8080/"
        },
        "id": "3wVfteJm6KXY",
        "outputId": "560e84d7-9eda-4417-94cf-560a9130d60f"
      },
      "execution_count": null,
      "outputs": [
        {
          "output_type": "stream",
          "name": "stdout",
          "text": [
            "a is NOT greater than b\n"
          ]
        }
      ]
    },
    {
      "cell_type": "markdown",
      "source": [
        "# Section 1.5 : Loops"
      ],
      "metadata": {
        "id": "adb2bb6enTeP"
      }
    },
    {
      "cell_type": "markdown",
      "source": [
        "## Section 5.1 : While Loop\n",
        "\n",
        "With the while loop we can execute a set of statements as long as a condition is true.\n",
        "\n",
        "The while loop requires relevant variables to be ready, in this example we need to define an indexing variable, i, which we set to 1."
      ],
      "metadata": {
        "id": "zwg_bFoICnxY"
      }
    },
    {
      "cell_type": "code",
      "source": [
        "i = 1\n",
        "while i < 6:\n",
        "  print(i)\n",
        "  i += 1"
      ],
      "metadata": {
        "colab": {
          "base_uri": "https://localhost:8080/"
        },
        "id": "EgmZsaiICw8r",
        "outputId": "0651226c-3209-4206-8004-a1753bb169b7"
      },
      "execution_count": null,
      "outputs": [
        {
          "output_type": "stream",
          "name": "stdout",
          "text": [
            "1\n",
            "2\n",
            "3\n",
            "4\n",
            "5\n"
          ]
        }
      ]
    },
    {
      "cell_type": "markdown",
      "source": [
        "##Section 5.2 : For Loop\n",
        "\n",
        "A for loop is used for iterating over a sequence (that is either a list, a tuple, a dictionary, a set, or a string).\n",
        "\n",
        "With the for loop we can execute a set of statements, once for each item in a list, tuple, set etc."
      ],
      "metadata": {
        "id": "8GrsB6ygDlQf"
      }
    },
    {
      "cell_type": "markdown",
      "source": [
        "**Looping through a list:**"
      ],
      "metadata": {
        "id": "UsJ_HFwSnW8W"
      }
    },
    {
      "cell_type": "code",
      "source": [
        "fruits = [\"apple\", \"banana\", \"cherry\"]\n",
        "for x in fruits:\n",
        "  print(x)"
      ],
      "metadata": {
        "id": "054SoSUo3GUI",
        "colab": {
          "base_uri": "https://localhost:8080/"
        },
        "outputId": "63afab7d-a272-4832-8fdf-3a8cb939178f"
      },
      "execution_count": null,
      "outputs": [
        {
          "output_type": "stream",
          "name": "stdout",
          "text": [
            "apple\n",
            "banana\n",
            "cherry\n"
          ]
        }
      ]
    },
    {
      "cell_type": "markdown",
      "source": [
        "**Looping through a string:**"
      ],
      "metadata": {
        "id": "1kioa12fKInX"
      }
    },
    {
      "cell_type": "code",
      "source": [
        "for x in \"banana\":\n",
        "  print(x)"
      ],
      "metadata": {
        "colab": {
          "base_uri": "https://localhost:8080/"
        },
        "id": "CoAGCbMEKLTI",
        "outputId": "e3cb8a87-7404-42bc-a37b-a1f6d3371282"
      },
      "execution_count": null,
      "outputs": [
        {
          "output_type": "stream",
          "name": "stdout",
          "text": [
            "b\n",
            "a\n",
            "n\n",
            "a\n",
            "n\n",
            "a\n"
          ]
        }
      ]
    },
    {
      "cell_type": "markdown",
      "source": [
        "**The range() Function:**"
      ],
      "metadata": {
        "id": "zlB5ZUKfPr2F"
      }
    },
    {
      "cell_type": "code",
      "source": [
        "for x in range(6):\n",
        "  print(x)"
      ],
      "metadata": {
        "colab": {
          "base_uri": "https://localhost:8080/"
        },
        "id": "4lNVSE4CPu_Y",
        "outputId": "483729d6-6a00-4a0f-d08f-140470dcc7cd"
      },
      "execution_count": null,
      "outputs": [
        {
          "output_type": "stream",
          "name": "stdout",
          "text": [
            "0\n",
            "1\n",
            "2\n",
            "3\n",
            "4\n",
            "5\n"
          ]
        }
      ]
    },
    {
      "cell_type": "markdown",
      "source": [
        "**Nested Loops:**"
      ],
      "metadata": {
        "id": "_PBMCzGL7ws2"
      }
    },
    {
      "cell_type": "code",
      "source": [
        "adj = [\"red\", \"tasty\"]\n",
        "fruits = [\"apple\", \"cherry\"]\n",
        "\n",
        "for x in adj:\n",
        "  for y in fruits:\n",
        "    print(x, y)"
      ],
      "metadata": {
        "colab": {
          "base_uri": "https://localhost:8080/"
        },
        "id": "Sfe_7FYC73p-",
        "outputId": "034a8b66-95bb-49b1-91e6-efac9360f008"
      },
      "execution_count": null,
      "outputs": [
        {
          "output_type": "stream",
          "name": "stdout",
          "text": [
            "red apple\n",
            "red cherry\n",
            "tasty apple\n",
            "tasty cherry\n"
          ]
        }
      ]
    },
    {
      "cell_type": "markdown",
      "source": [
        "#Section 1.6 : Functions"
      ],
      "metadata": {
        "id": "Y8k-YFuJ8EIY"
      }
    },
    {
      "cell_type": "markdown",
      "source": [
        "A function is a block of code which only runs when it is called.\n",
        "\n",
        "You can pass data, known as parameters, into a function.\n",
        "\n",
        "A function can return data as a result."
      ],
      "metadata": {
        "id": "sG65HJ2481eX"
      }
    },
    {
      "cell_type": "markdown",
      "source": [
        "###Creating a Function:\n",
        "\n",
        "In Python a function is defined using the ***def*** keyword:"
      ],
      "metadata": {
        "id": "PhTGgEU0_uQd"
      }
    },
    {
      "cell_type": "code",
      "source": [
        "def my_function():\n",
        "  print(\"Hello from a function\")"
      ],
      "metadata": {
        "id": "Bi0wHmqS_pcH"
      },
      "execution_count": null,
      "outputs": []
    },
    {
      "cell_type": "markdown",
      "source": [
        "###Calling a Function:\n",
        "\n",
        "To call a function, use the function name followed by parenthesis:"
      ],
      "metadata": {
        "id": "pOL3CbLL_5u9"
      }
    },
    {
      "cell_type": "code",
      "source": [
        "my_function()"
      ],
      "metadata": {
        "colab": {
          "base_uri": "https://localhost:8080/"
        },
        "id": "fORUoOR8_9jP",
        "outputId": "c3b9fe53-4403-4a3c-98a5-93f40b60197a"
      },
      "execution_count": null,
      "outputs": [
        {
          "output_type": "stream",
          "name": "stdout",
          "text": [
            "Hello from a function\n"
          ]
        }
      ]
    },
    {
      "cell_type": "markdown",
      "source": [
        "###Arguments:\n",
        "Information can be passed into functions as arguments.\n",
        "\n",
        "Arguments are specified after the function name, inside the parentheses. You can add as many arguments as you want, just separate them with a comma.\n",
        "\n",
        "The following example has a function with one argument (fname). When the function is called, we pass along a first name, which is used inside the function to print the full name:"
      ],
      "metadata": {
        "id": "iMJIs1sGAFTU"
      }
    },
    {
      "cell_type": "code",
      "source": [
        "def my_function(fname):\n",
        "  print(fname + \" Malotti\")\n",
        "\n",
        "my_function(\"Pascal\")\n",
        "my_function(\"Heloise\")"
      ],
      "metadata": {
        "colab": {
          "base_uri": "https://localhost:8080/"
        },
        "id": "5cAdkG7ZARwl",
        "outputId": "ee1da23a-5af8-46b7-fb0a-dfc8b387ec5c"
      },
      "execution_count": null,
      "outputs": [
        {
          "output_type": "stream",
          "name": "stdout",
          "text": [
            "Pascal Malotti\n",
            "Heloise Malotti\n"
          ]
        }
      ]
    },
    {
      "cell_type": "markdown",
      "source": [
        "###Default Parameter Value:\n",
        "The following example shows how to use a default parameter value.\n",
        "\n",
        "If we call the function without argument, it uses the default value:"
      ],
      "metadata": {
        "id": "Krrvm3jSApPh"
      }
    },
    {
      "cell_type": "code",
      "source": [
        "def my_function(country = \"Norway\"):\n",
        "  print(\"I am from \" + country)\n",
        "\n",
        "my_function(\"Sweden\")\n",
        "my_function(\"India\")\n",
        "my_function()"
      ],
      "metadata": {
        "colab": {
          "base_uri": "https://localhost:8080/"
        },
        "id": "sKZV3h9YAsuw",
        "outputId": "0a7397ef-34f7-4f10-8712-75fed56d8867"
      },
      "execution_count": null,
      "outputs": [
        {
          "output_type": "stream",
          "name": "stdout",
          "text": [
            "I am from Sweden\n",
            "I am from India\n",
            "I am from Norway\n"
          ]
        }
      ]
    },
    {
      "cell_type": "markdown",
      "source": [
        "###Return Values:\n",
        "To let a function return a value, use the ***return*** statement:"
      ],
      "metadata": {
        "id": "EXxZRGTiA4Af"
      }
    },
    {
      "cell_type": "code",
      "source": [
        "def my_function(x):\n",
        "  return 5 * x\n",
        "\n",
        "print(my_function(3))\n",
        "print(my_function(5))"
      ],
      "metadata": {
        "colab": {
          "base_uri": "https://localhost:8080/"
        },
        "id": "UqjWS62yBAcF",
        "outputId": "be09b4c0-34a9-42e3-de93-bb38c60e4715"
      },
      "execution_count": null,
      "outputs": [
        {
          "output_type": "stream",
          "name": "stdout",
          "text": [
            "15\n",
            "25\n"
          ]
        }
      ]
    },
    {
      "cell_type": "markdown",
      "source": [
        "# Exercice : Best Time to Buy and Sell Stock\n",
        "\n",
        "You are given an array prices where prices[i] is the price of a given stock on the ith day.\n",
        "\n",
        "You want to maximize your profit by choosing a single day to buy one stock and choosing a different day in the future to sell that stock.\n",
        "\n",
        "Return the maximum profit you can achieve from this transaction. If you cannot achieve any profit, return 0.\n",
        "\n",
        "\n",
        "\n",
        "Example 1:\n",
        "\n",
        "Input: prices = [7,1,5,3,6,4]\n",
        "\n",
        "Output: 5\n",
        "\n",
        "Explanation: Buy on day 2 (price = 1) and sell on day 5 (price = 6), profit = 6-1 = 5.\n",
        "\n",
        "Note that buying on day 2 and selling on day 1 is not allowed because you must buy before you sell.\n",
        "\n",
        "Example 2:\n",
        "\n",
        "Input: prices = [7,6,4,3,1]\n",
        "\n",
        "Output: 0\n",
        "\n",
        "Explanation: In this case, no transactions are done and the max profit = 0.\n",
        "\n",
        "\n",
        "Constraints:\n",
        "\n",
        "1 <= prices.length <= 105\n",
        "\n",
        "0 <= prices[i] <= 104"
      ],
      "metadata": {
        "id": "KUckAPLWViqH"
      }
    },
    {
      "cell_type": "markdown",
      "source": [
        "For more exercices : https://leetcode.com/problemset/algorithms/?difficulty=EASY&page=1"
      ],
      "metadata": {
        "id": "99-JJrKiWtj4"
      }
    }
  ]
}